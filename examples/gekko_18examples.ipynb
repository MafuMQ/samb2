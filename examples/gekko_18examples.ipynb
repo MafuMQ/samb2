{
  "cells": [
    {
      "cell_type": "markdown",
      "metadata": {
        "id": "view-in-github",
        "colab_type": "text"
      },
      "source": [
        "<a href=\"https://colab.research.google.com/github/MafuMQ/samb2/blob/main/examples/gekko_18examples.ipynb\" target=\"_parent\"><img src=\"https://colab.research.google.com/assets/colab-badge.svg\" alt=\"Open In Colab\"/></a>"
      ]
    },
    {
      "cell_type": "markdown",
      "metadata": {
        "id": "yz1A8DuNtRBl"
      },
      "source": [
        "## GEKKO Python Example Applications\n",
        "\n",
        "![GEKKO Optimization Suite](http://apmonitor.com/wiki/uploads/Main/gekko_optimization.png)\n",
        "\n",
        "GEKKO is optimization software for mixed-integer and differential algebraic equations. It is coupled with large-scale solvers for linear, quadratic, nonlinear, and mixed integer programming (LP, QP, NLP, MILP, MINLP). Modes of operation include data reconciliation, real-time optimization, dynamic simulation, and nonlinear predictive control. See the [GEKKO documentation](http://gekko.readthedocs.io/en/latest/overview.html) for additional information.\n",
        "\n",
        "1. Solver Selection\n",
        "2. Solve Linear Equations\n",
        "3. Solve Nonlinear Equations\n",
        "4. Interpolation with Cubic Spline\n",
        "5. Linear and Polynomial Regression\n",
        "6. Nonlinear Regression\n",
        "7. Machine Learning / Artificial Neural Network\n",
        "8. Solve Differential Equation(s)\n",
        "9. Nonlinear Programming Optimization\n",
        "10. Mixed Integer Nonlinear Programming\n",
        "11. Optimal Control with Integral Objective\n",
        "12. Optimal Control with Economic Objective\n",
        "13. Optimal Control: Minimize Final Time\n",
        "14. PID Control Tuning\n",
        "15. Process Simulator\n",
        "16. Moving Horizon Estimation\n",
        "17. Model Predictive Control\n",
        "18. Debugging Resources"
      ]
    },
    {
      "cell_type": "code",
      "execution_count": 1,
      "metadata": {
        "id": "sHHFKgfptRBn",
        "outputId": "7e02480d-ecd7-49ba-8506-b3a5704e3690",
        "colab": {
          "base_uri": "https://localhost:8080/"
        }
      },
      "outputs": [
        {
          "output_type": "stream",
          "name": "stdout",
          "text": [
            "Collecting gekko\n",
            "  Downloading gekko-1.3.0-py3-none-any.whl.metadata (3.0 kB)\n",
            "Requirement already satisfied: numpy>=1.8 in /usr/local/lib/python3.11/dist-packages (from gekko) (2.0.2)\n",
            "Downloading gekko-1.3.0-py3-none-any.whl (13.2 MB)\n",
            "\u001b[2K   \u001b[90m━━━━━━━━━━━━━━━━━━━━━━━━━━━━━━━━━━━━━━━━\u001b[0m \u001b[32m13.2/13.2 MB\u001b[0m \u001b[31m98.9 MB/s\u001b[0m eta \u001b[36m0:00:00\u001b[0m\n",
            "\u001b[?25hInstalling collected packages: gekko\n",
            "Successfully installed gekko-1.3.0\n",
            "Name: gekko\n",
            "Version: 1.3.0\n",
            "Summary: Machine learning and optimization for dynamic systems\n",
            "Home-page: https://github.com/BYU-PRISM/GEKKO\n",
            "Author: BYU PRISM Lab\n",
            "Author-email: support@apmonitor.com\n",
            "License: MIT\n",
            "Location: /usr/local/lib/python3.11/dist-packages\n",
            "Requires: numpy\n",
            "Required-by: \n"
          ]
        }
      ],
      "source": [
        "try:\n",
        "    # import gekko if installed\n",
        "    from gekko import GEKKO\n",
        "except:\n",
        "    # install gekko if error on try\n",
        "    !pip install gekko\n",
        "    from gekko import GEKKO\n",
        "\n",
        "# package information\n",
        "!pip show gekko\n",
        "\n",
        "# upgrade GEKKO to latest version\n",
        "# !pip install --upgrade gekko"
      ]
    },
    {
      "cell_type": "markdown",
      "metadata": {
        "id": "1QMnRNNltRBo"
      },
      "source": [
        "## 1: Solver selection\n",
        "\n",
        "Solve $y^2=1$ with APOPT solver. See [APMonitor documentation](https://apmonitor.com/wiki/index.php/Main/OptionApmSolver) or [GEKKO documentation](http://gekko.readthedocs.io/en/latest/global.html?highlight=solver#solver) for additional solver options."
      ]
    },
    {
      "cell_type": "code",
      "execution_count": 2,
      "metadata": {
        "id": "P8eWcqcatRBo",
        "outputId": "28ea1e32-f294-478e-96e7-434edfb42dc6",
        "colab": {
          "base_uri": "https://localhost:8080/"
        }
      },
      "outputs": [
        {
          "output_type": "stream",
          "name": "stdout",
          "text": [
            "y: [1.0000000465]\n"
          ]
        }
      ],
      "source": [
        "m = GEKKO()           # create GEKKO model\n",
        "y = m.Var(value=2)    # define new variable, initial value=2\n",
        "m.Equation(y**2==1)   # define new equation\n",
        "m.options.SOLVER=1    # change solver (1=APOPT,3=IPOPT)\n",
        "m.solve(disp=False)   # solve locally (remote=False)\n",
        "print('y: ' + str(y.value)) # print variable value"
      ]
    },
    {
      "cell_type": "markdown",
      "metadata": {
        "id": "WQtcnR5AtRBp"
      },
      "source": [
        "## 2: Solve Linear Equations\n",
        "\n",
        "$3\\,x + 2\\,y=1$\n",
        "\n",
        "$x+2\\,y=0$"
      ]
    },
    {
      "cell_type": "code",
      "execution_count": 3,
      "metadata": {
        "id": "1U5NJuYttRBp",
        "outputId": "f6d74460-d419-407b-f7e6-bc9b02ef0146",
        "colab": {
          "base_uri": "https://localhost:8080/"
        }
      },
      "outputs": [
        {
          "output_type": "stream",
          "name": "stdout",
          "text": [
            "[0.5] [-0.25]\n"
          ]
        }
      ],
      "source": [
        "m = GEKKO()            # create GEKKO model\n",
        "x = m.Var()            # define new variable, default=0\n",
        "y = m.Var()            # define new variable, default=0\n",
        "m.Equations([3*x+2*y==1, x+2*y==0])  # equations\n",
        "m.solve(disp=False)    # solve\n",
        "print(x.value,y.value) # print solution"
      ]
    },
    {
      "cell_type": "markdown",
      "metadata": {
        "id": "z9I0KM-ttRBp"
      },
      "source": [
        "## 3: Solve Nonlinear Equations\n",
        "\n",
        "$x+2\\,y=0$\n",
        "\n",
        "$x^2+y^2=1$"
      ]
    },
    {
      "cell_type": "code",
      "execution_count": 4,
      "metadata": {
        "id": "yUK5NaFQtRBp",
        "outputId": "c8bb8723-fcfc-465f-8141-2ee79efda6d9",
        "colab": {
          "base_uri": "https://localhost:8080/"
        }
      },
      "outputs": [
        {
          "output_type": "stream",
          "name": "stdout",
          "text": [
            "[-0.89442724267, 0.44721362133]\n"
          ]
        }
      ],
      "source": [
        "m = GEKKO()             # create GEKKO model\n",
        "x = m.Var(value=0)      # define new variable, initial value=0\n",
        "y = m.Var(value=1)      # define new variable, initial value=1\n",
        "m.Equations([x + 2*y==0, x**2+y**2==1]) # equations\n",
        "m.solve(disp=False)     # solve\n",
        "print([x.value[0],y.value[0]]) # print solution"
      ]
    },
    {
      "cell_type": "markdown",
      "metadata": {
        "id": "Qpa-zTvhtRBp"
      },
      "source": [
        "## 4: Interpolation with Cubic Spline\n"
      ]
    },
    {
      "cell_type": "code",
      "execution_count": 5,
      "metadata": {
        "id": "wi78TydCtRBp",
        "outputId": "bae902d5-9f05-4698-e1c1-4cfe51729c55",
        "colab": {
          "base_uri": "https://localhost:8080/",
          "height": 447
        }
      },
      "outputs": [
        {
          "output_type": "execute_result",
          "data": {
            "text/plain": [
              "<matplotlib.legend.Legend at 0x7add5ae813d0>"
            ]
          },
          "metadata": {},
          "execution_count": 5
        },
        {
          "output_type": "display_data",
          "data": {
            "text/plain": [
              "<Figure size 640x480 with 1 Axes>"
            ],
            "image/png": "[encoded data removed]"
          },
          "metadata": {}
        }
      ],
      "source": [
        "import numpy as np\n",
        "import matplotlib.pyplot as plt\n",
        "%matplotlib inline\n",
        "\n",
        "xm = np.array([0,1,2,3,4,5])\n",
        "ym = np.array([0.1,0.2,0.3,0.5,1.0,0.9])\n",
        "\n",
        "m = GEKKO()             # create GEKKO model\n",
        "m.options.IMODE = 2     # solution mode\n",
        "x = m.Param(value=np.linspace(-1,6)) # prediction points\n",
        "y = m.Var()             # prediction results\n",
        "m.cspline(x, y, xm, ym) # cubic spline\n",
        "m.solve(disp=False)     # solve\n",
        "\n",
        "# create plot\n",
        "plt.plot(xm,ym,'bo')\n",
        "plt.plot(x.value,y.value,'r--',label='cubic spline')\n",
        "plt.legend(loc='best')"
      ]
    },
    {
      "cell_type": "markdown",
      "metadata": {
        "id": "WpxstQkztRBq"
      },
      "source": [
        "## 5: Linear and Polynomial Regression"
      ]
    },
    {
      "cell_type": "code",
      "execution_count": 6,
      "metadata": {
        "scrolled": true,
        "id": "qMw_sq7vtRBq",
        "outputId": "9893c066-b899-4371-a556-7fdc9282eb01",
        "colab": {
          "base_uri": "https://localhost:8080/",
          "height": 466
        }
      },
      "outputs": [
        {
          "output_type": "execute_result",
          "data": {
            "text/plain": [
              "Text(0, 0.5, 'y')"
            ]
          },
          "metadata": {},
          "execution_count": 6
        },
        {
          "output_type": "display_data",
          "data": {
            "text/plain": [
              "<Figure size 640x480 with 1 Axes>"
            ],
            "image/png": "[encoded data removed]"
          },
          "metadata": {}
        }
      ],
      "source": [
        "import numpy as np\n",
        "import matplotlib.pyplot as plt\n",
        "%matplotlib inline\n",
        "\n",
        "xm = np.array([0,1,2,3,4,5])\n",
        "ym = np.array([0.1,0.2,0.3,0.5,0.8,2.0])\n",
        "\n",
        "#### Solution\n",
        "m = GEKKO()\n",
        "m.options.IMODE=2\n",
        "# coefficients\n",
        "c = [m.FV(value=0) for i in range(4)]\n",
        "x = m.Param(value=xm)\n",
        "y = m.CV(value=ym)\n",
        "y.FSTATUS = 1\n",
        "# polynomial model\n",
        "m.Equation(y==c[0]+c[1]*x+c[2]*x**2+c[3]*x**3)\n",
        "\n",
        "# linear regression\n",
        "c[0].STATUS=1\n",
        "c[1].STATUS=1\n",
        "m.solve(disp=False)\n",
        "p1 = [c[1].value[0],c[0].value[0]]\n",
        "\n",
        "# quadratic\n",
        "c[2].STATUS=1\n",
        "m.solve(disp=False)\n",
        "p2 = [c[2].value[0],c[1].value[0],c[0].value[0]]\n",
        "\n",
        "# cubic\n",
        "c[3].STATUS=1\n",
        "m.solve(disp=False)\n",
        "p3 = [c[3].value[0],c[2].value[0],c[1].value[0],c[0].value[0]]\n",
        "\n",
        "# plot fit\n",
        "plt.plot(xm,ym,'ko',markersize=10)\n",
        "xp = np.linspace(0,5,100)\n",
        "plt.plot(xp,np.polyval(p1,xp),'b--',linewidth=2)\n",
        "plt.plot(xp,np.polyval(p2,xp),'r--',linewidth=3)\n",
        "plt.plot(xp,np.polyval(p3,xp),'g:',linewidth=2)\n",
        "plt.legend(['Data','Linear','Quadratic','Cubic'],loc='best')\n",
        "plt.xlabel('x')\n",
        "plt.ylabel('y')"
      ]
    },
    {
      "cell_type": "markdown",
      "metadata": {
        "id": "qiZ1S83NtRBq"
      },
      "source": [
        "## 6: Nonlinear Regression"
      ]
    },
    {
      "cell_type": "code",
      "execution_count": 7,
      "metadata": {
        "id": "JijKuFdgtRBq",
        "outputId": "ae861b23-01c1-4081-a63c-7b0aaafaed85",
        "colab": {
          "base_uri": "https://localhost:8080/",
          "height": 465
        }
      },
      "outputs": [
        {
          "output_type": "stream",
          "name": "stdout",
          "text": [
            "Optimized, a = 0.59909644843\n"
          ]
        },
        {
          "output_type": "execute_result",
          "data": {
            "text/plain": [
              "[<matplotlib.lines.Line2D at 0x7add58d75150>]"
            ]
          },
          "metadata": {},
          "execution_count": 7
        },
        {
          "output_type": "display_data",
          "data": {
            "text/plain": [
              "<Figure size 640x480 with 1 Axes>"
            ],
            "image/png": "[encoded data removed]"
          },
          "metadata": {}
        }
      ],
      "source": [
        "import numpy as np\n",
        "import matplotlib.pyplot as plt\n",
        "%matplotlib inline\n",
        "\n",
        "# measurements\n",
        "xm = np.array([0,1,2,3,4,5])\n",
        "ym = np.array([0.1,0.2,0.3,0.5,0.8,2.0])\n",
        "\n",
        "# GEKKO model\n",
        "m = GEKKO()\n",
        "\n",
        "# parameters\n",
        "x = m.Param(value=xm)\n",
        "a = m.FV()\n",
        "a.STATUS=1\n",
        "\n",
        "# variables\n",
        "y = m.CV(value=ym)\n",
        "y.FSTATUS=1\n",
        "\n",
        "# regression equation\n",
        "m.Equation(y==0.1*m.exp(a*x))\n",
        "\n",
        "# regression mode\n",
        "m.options.IMODE = 2\n",
        "\n",
        "# optimize\n",
        "m.solve(disp=False)\n",
        "\n",
        "# print parameters\n",
        "print('Optimized, a = ' + str(a.value[0]))\n",
        "\n",
        "plt.plot(xm,ym,'bo')\n",
        "plt.plot(xm,y.value,'r-')"
      ]
    },
    {
      "cell_type": "markdown",
      "metadata": {
        "id": "GFe0aHd0tRBq"
      },
      "source": [
        "## 7: Machine Learning\n",
        "\n",
        "Approximate $y = sin(x)$ with an Artificial Neural Network\n",
        "\n",
        "__Trigonometric Function (select=True)__\n",
        "\n",
        "* Input: $x$\n",
        "* Layer 1: linear layer, 1 node, $l1 = w1 \\; x$\n",
        "* Layer 2: nonlinear layer, 1 node, cosine function, $l2 = \\cos(w2a+w2b\\;l1)$\n",
        "* Layer 3: linear layer, 1 node, $l3 = w3 \\; l2$\n",
        "* Output: $y = \\sum{l3}$\n",
        "\n",
        "__Artificial Neural Network Description (select=False)__\n",
        "\n",
        "* Input: $x$\n",
        "* Layer 1: linear layer, 2 nodes, $l1 = w1 \\; x$\n",
        "* Layer 2: nonlinear layer, 3 nodes, hyperbolic tangent activation function, $l2 = \\tanh(w2a+w2b\\;l1)$\n",
        "* Layer 3: linear layer, 2 nodes, $l3 = w3 \\; l2$\n",
        "* Output: $y = \\sum{l3}$\n",
        "\n",
        "See [Online Neural Network Demo](https://playground.tensorflow.org) with TensorFlow."
      ]
    },
    {
      "cell_type": "code",
      "execution_count": 8,
      "metadata": {
        "id": "1ZjcByRAtRBq",
        "outputId": "9d0d74e1-2b18-42ce-afbe-51f98421152b",
        "colab": {
          "base_uri": "https://localhost:8080/",
          "height": 1000
        }
      },
      "outputs": [
        {
          "output_type": "stream",
          "name": "stdout",
          "text": [
            "apm 34.106.156.35_gk_model6 <br><pre> ----------------------------------------------------------------\n",
            " APMonitor, Version 1.0.3\n",
            " APMonitor Optimization Suite\n",
            " ----------------------------------------------------------------\n",
            " \n",
            " \n",
            " --------- APM Model Size ------------\n",
            " Each time step contains\n",
            "   Objects      :            0\n",
            "   Constants    :            0\n",
            "   Variables    :           26\n",
            "   Intermediates:           16\n",
            "   Connections  :            0\n",
            "   Equations    :           17\n",
            "   Residuals    :            1\n",
            " \n",
            " Number of state variables:             44\n",
            " Number of total equations: -           20\n",
            " Number of slack variables: -            0\n",
            " ---------------------------------------\n",
            " Degrees of freedom       :             24\n",
            " \n",
            " **********************************************\n",
            " Model Parameter Estimation with Interior Point Solver\n",
            " **********************************************\n",
            "  \n",
            "  \n",
            " Info: Exact Hessian\n",
            "\n",
            "******************************************************************************\n",
            "This program contains Ipopt, a library for large-scale nonlinear optimization.\n",
            " Ipopt is released as open source code under the Eclipse Public License (EPL).\n",
            "         For more information visit http://projects.coin-or.org/Ipopt\n",
            "******************************************************************************\n",
            "\n",
            "This is Ipopt version 3.12.10, running with linear solver ma57.\n",
            "\n",
            "Number of nonzeros in equality constraint Jacobian...:      500\n",
            "Number of nonzeros in inequality constraint Jacobian.:        0\n",
            "Number of nonzeros in Lagrangian Hessian.............:        0\n",
            "\n",
            "Total number of variables............................:       44\n",
            "                     variables with only lower bounds:        0\n",
            "                variables with lower and upper bounds:        0\n",
            "                     variables with only upper bounds:        0\n",
            "Total number of equality constraints.................:       20\n",
            "Total number of inequality constraints...............:        0\n",
            "        inequality constraints with only lower bounds:        0\n",
            "   inequality constraints with lower and upper bounds:        0\n",
            "        inequality constraints with only upper bounds:        0\n",
            "\n",
            "iter    objective    inf_pr   inf_du lg(mu)  ||d||  lg(rg) alpha_du alpha_pr  ls\n",
            "   0  0.0000000e+00 1.23e+00 0.00e+00   0.0 0.00e+00    -  0.00e+00 0.00e+00   0\n",
            "   1  9.8044157e+01 7.15e-01 2.93e+01 -11.0 6.82e-01    -  1.00e+00 1.00e+00h  1\n",
            "   2  9.8467991e+01 2.87e-01 2.72e+01 -11.0 1.79e-01    -  1.00e+00 1.00e+00h  1\n",
            "   3  9.3471797e+01 1.54e-01 2.32e+01 -11.0 2.44e-01    -  1.00e+00 1.00e+00f  1\n",
            "   4  8.0297584e+01 2.65e-01 3.37e+01 -11.0 5.14e-01    -  1.00e+00 1.00e+00f  1\n",
            "   5  3.7185867e+01 1.73e-01 3.05e+01 -11.0 5.01e-01    -  1.00e+00 1.00e+00f  1\n",
            "   6  1.0612102e+01 4.29e-01 3.62e+01 -11.0 2.25e+00    -  1.00e+00 2.50e-01f  3\n",
            "   7  1.0120312e+01 3.17e-01 2.32e+01 -11.0 4.44e-01    -  1.00e+00 1.00e+00f  1\n",
            "   8  3.9319847e+00 7.23e-02 5.38e+00 -11.0 2.56e-01    -  1.00e+00 1.00e+00f  1\n",
            "   9  3.3380882e+00 2.48e-02 4.39e+00 -11.0 7.28e-02    -  1.00e+00 1.00e+00h  1\n",
            "iter    objective    inf_pr   inf_du lg(mu)  ||d||  lg(rg) alpha_du alpha_pr  ls\n",
            "  10  1.9993276e+00 2.55e-01 1.80e+01 -11.0 9.93e-01    -  1.00e+00 2.50e-01f  3\n",
            "  11  1.1736797e+00 1.31e-01 1.31e+01 -11.0 5.07e-01    -  1.00e+00 1.00e+00f  1\n",
            "  12  9.6506597e-01 1.36e-01 1.09e+01 -11.0 1.93e-01    -  1.00e+00 1.00e+00F  1\n",
            "  13  1.2196746e-01 6.28e-03 3.06e+00 -11.0 1.43e-01    -  1.00e+00 1.00e+00f  1\n",
            "  14  5.4996872e-02 1.96e-03 1.05e+00 -11.0 4.97e-02    -  1.00e+00 1.00e+00h  1\n",
            "  15  6.6542669e-02 6.71e-04 1.63e+00 -11.0 9.41e-02    -  1.00e+00 1.00e+00H  1\n",
            "  16  5.1173659e-02 6.77e-04 7.27e-01 -11.0 2.59e-02    -  1.00e+00 1.00e+00f  1\n",
            "  17  2.3507606e-02 6.29e-04 1.59e-01 -11.0 2.14e-02    -  1.00e+00 1.00e+00h  1\n",
            "  18  2.3044385e-02 1.07e-04 4.33e-02 -11.0 2.71e-03    -  1.00e+00 1.00e+00h  1\n",
            "  19  2.2295516e-02 2.95e-04 4.65e-02 -11.0 5.22e-03    -  1.00e+00 1.00e+00h  1\n",
            "iter    objective    inf_pr   inf_du lg(mu)  ||d||  lg(rg) alpha_du alpha_pr  ls\n",
            "  20  2.0242964e-02 5.25e-03 2.28e-01 -11.0 9.88e-02    -  1.00e+00 2.50e-01h  3\n",
            "  21  1.8555405e-02 2.13e-02 4.85e-01 -11.0 3.66e-01    -  1.00e+00 1.25e-01h  4\n",
            "  22  1.8060772e-02 2.05e-02 3.67e-01 -11.0 2.07e-01    -  1.00e+00 6.25e-02h  5\n",
            "  23  1.7435368e-02 1.10e-02 3.57e-01 -11.0 4.81e-02    -  1.00e+00 5.00e-01h  2\n",
            "  24  3.5094196e-02 2.01e-05 6.20e-01 -11.0 6.38e-02    -  1.00e+00 1.00e+00H  1\n",
            "  25  3.4404946e-02 1.14e-05 5.26e-01 -11.0 2.05e-02    -  1.00e+00 1.00e+00F  1\n",
            "  26  1.6081076e-02 8.29e-03 2.22e-01 -11.0 3.54e-02    -  1.00e+00 1.00e+00f  1\n",
            "  27  1.6017332e-02 5.29e-03 2.80e-01 -11.0 1.96e-02    -  1.00e+00 5.00e-01h  2\n",
            "  28  1.4904457e-02 4.23e-04 4.26e-02 -11.0 7.79e-03    -  1.00e+00 1.00e+00h  1\n",
            "  29  1.4891322e-02 3.00e-05 5.20e-02 -11.0 4.36e-03    -  1.00e+00 1.00e+00h  1\n",
            "iter    objective    inf_pr   inf_du lg(mu)  ||d||  lg(rg) alpha_du alpha_pr  ls\n",
            "  30  1.4862934e-02 7.78e-05 5.68e-02 -11.0 3.18e-03    -  1.00e+00 1.00e+00h  1\n",
            "  31  1.4698357e-02 1.96e-05 3.95e-02 -11.0 1.90e-03    -  1.00e+00 1.00e+00h  1\n",
            "  32  1.4571708e-02 1.85e-05 1.85e-02 -11.0 2.17e-03    -  1.00e+00 1.00e+00h  1\n",
            "  33  1.4545841e-02 3.27e-04 1.13e-01 -11.0 9.17e-03    -  1.00e+00 1.00e+00h  1\n",
            "  34  2.1046552e-02 1.41e-06 4.02e-01 -11.0 8.64e-02    -  1.00e+00 1.00e+00H  1\n",
            "  35  2.0864702e-02 6.88e-06 3.98e-01 -11.0 1.74e-01    -  1.00e+00 7.81e-03h  8\n",
            "  36  2.0386308e-02 7.73e-06 3.90e-01 -11.0 6.91e-02    -  1.00e+00 1.56e-02h  7\n",
            "  37  1.6225207e-02 9.20e-06 3.50e-01 -11.0 5.18e-02    -  1.00e+00 1.00e+00F  1\n",
            "  38  1.4960571e-02 1.63e-05 2.71e-01 -11.0 3.39e-02    -  1.00e+00 6.25e-02h  5\n",
            "  39  1.1597160e-02 3.64e-03 8.28e-02 -11.0 2.87e-02    -  1.00e+00 1.00e+00h  1\n",
            "iter    objective    inf_pr   inf_du lg(mu)  ||d||  lg(rg) alpha_du alpha_pr  ls\n",
            "  40  1.3536611e-02 4.37e-04 2.17e-01 -11.0 5.80e-02    -  1.00e+00 1.00e+00H  1\n",
            "  41  1.2855143e-02 9.98e-04 2.55e-01 -11.0 5.63e-01    -  1.00e+00 3.12e-02h  6\n",
            "  42  1.1360343e-02 1.02e-02 3.24e-01 -11.0 8.01e-01    -  1.00e+00 6.25e-02h  5\n",
            "  43  6.4682767e-03 1.94e-01 4.00e-01 -11.0 3.70e+00    -  1.00e+00 6.25e-02h  5\n",
            "  44  5.8884201e-03 1.95e-01 4.31e-01 -11.0 2.04e+00    -  1.00e+00 7.81e-03h  8\n",
            "  45  7.6253428e-03 1.03e-01 3.76e-01 -11.0 1.04e-01    -  1.00e+00 5.00e-01h  2\n",
            "  46  7.4795879e-03 1.10e-01 3.00e-01 -11.0 2.83e-01    -  1.00e+00 2.50e-01h  3\n",
            "  47  5.6001667e-03 1.19e-01 1.98e-01 -11.0 9.74e-01    -  1.00e+00 6.25e-02h  5\n",
            "  48  6.1374644e-03 1.13e-01 2.13e-01 -11.0 2.71e-01    -  1.00e+00 6.25e-02h  5\n",
            "  49  5.4972234e-03 2.92e-02 1.73e-01 -11.0 8.33e-02    -  1.00e+00 1.00e+00h  1\n",
            "iter    objective    inf_pr   inf_du lg(mu)  ||d||  lg(rg) alpha_du alpha_pr  ls\n",
            "  50  1.1144959e-02 2.47e-02 4.55e-01 -11.0 2.45e-01    -  1.00e+00 1.25e-01h  4\n",
            "  51  9.5895849e-03 7.42e-03 5.13e-01 -11.0 3.27e-02    -  1.00e+00 1.00e+00h  1\n",
            "  52  7.7755217e-03 3.65e-03 5.65e-01 -11.0 3.09e-02    -  1.00e+00 5.00e-01h  2\n",
            "  53  5.1332126e-03 6.46e-03 2.18e-01 -11.0 2.89e-02    -  1.00e+00 1.00e+00h  1\n",
            "  54  8.1280435e-03 4.67e-03 5.15e-01 -11.0 2.85e-02    -  1.00e+00 5.00e-01h  2\n",
            "  55  3.5063871e-03 2.63e-03 6.40e-02 -11.0 2.07e-02    -  1.00e+00 1.00e+00h  1\n",
            "  56  8.0713561e-03 5.24e-04 3.08e-01 -11.0 1.17e-02    -  1.00e+00 1.00e+00h  1\n",
            "  57  3.3989699e-03 4.27e-04 1.85e-02 -11.0 1.04e-02    -  1.00e+00 1.00e+00h  1\n",
            "  58  3.4830935e-03 6.36e-06 4.27e-02 -11.0 1.24e-03    -  1.00e+00 1.00e+00h  1\n",
            "  59  3.3871394e-03 2.21e-06 3.57e-03 -11.0 8.76e-04    -  1.00e+00 1.00e+00h  1\n",
            "iter    objective    inf_pr   inf_du lg(mu)  ||d||  lg(rg) alpha_du alpha_pr  ls\n",
            "  60  3.3854409e-03 1.17e-07 2.30e-03 -11.0 1.18e-04    -  1.00e+00 1.00e+00h  1\n",
            "  61  3.4000175e-03 5.07e-08 2.01e-02 -11.0 2.64e-03    -  1.00e+00 1.00e+00H  1\n",
            "  62  3.4574926e-03 1.17e-08 5.69e-02 -11.0 7.83e-03    -  1.00e+00 1.00e+00H  1\n",
            "  63  3.4560103e-03 2.13e-08 5.68e-02 -11.0 2.41e-02    -  1.00e+00 1.95e-03h 10\n",
            "  64  3.3508371e-03 1.75e-05 2.87e-02 -11.0 3.57e-03    -  1.00e+00 1.00e+00h  1\n",
            "  65  3.3834519e-03 1.20e-05 3.52e-02 -11.0 1.55e-03    -  1.00e+00 1.00e+00h  1\n",
            "  66  3.2554291e-03 1.39e-05 1.54e-02 -11.0 3.20e-03    -  1.00e+00 1.00e+00h  1\n",
            "  67  3.2462909e-03 6.48e-04 3.34e-02 -11.0 1.25e-02    -  1.00e+00 1.00e+00h  1\n",
            "  68  3.2380250e-03 5.15e-03 9.69e-02 -11.0 5.80e-01    -  1.00e+00 6.25e-02h  5\n",
            "  69  3.1743439e-03 5.79e-03 8.79e-02 -11.0 1.96e+00    -  1.00e+00 7.81e-03h  8\n",
            "iter    objective    inf_pr   inf_du lg(mu)  ||d||  lg(rg) alpha_du alpha_pr  ls\n",
            "  70  3.1268154e-03 1.26e-02 1.32e-01 -11.0 6.90e-01    -  1.00e+00 6.25e-02h  5\n",
            "  71  2.6616477e-03 1.36e-01 2.32e-01 -11.0 6.01e+00    -  1.00e+00 3.12e-02h  6\n",
            "  72  2.6811795e-03 1.36e-01 2.89e-01 -11.0 4.10e+00    -  1.00e+00 1.95e-03h 10\n",
            "  73  2.1190325e-03 1.02e-01 2.07e-01 -11.0 2.66e-02    -  1.00e+00 2.50e-01h  3\n",
            "  74  1.6300373e-03 2.62e-02 5.54e-02 -11.0 9.03e-02    -  1.00e+00 1.00e+00h  1\n",
            "  75  1.7730912e-03 2.62e-02 8.16e-02 -11.0 1.06e+00    -  1.00e+00 7.81e-03h  8\n",
            "  76  1.9050690e-03 7.30e-03 9.47e-02 -11.0 5.21e-02    -  1.00e+00 1.00e+00h  1\n",
            "  77  1.7667250e-03 8.11e-03 8.37e-02 -11.0 2.59e+00    -  1.00e+00 7.81e-03h  8\n",
            "  78  2.8494446e-03 6.18e-03 2.71e-01 -11.0 1.43e-01    -  1.00e+00 1.25e-01h  4\n",
            "  79  1.5243249e-03 1.57e-03 1.65e-01 -11.0 2.57e-02    -  1.00e+00 1.00e+00h  1\n",
            "iter    objective    inf_pr   inf_du lg(mu)  ||d||  lg(rg) alpha_du alpha_pr  ls\n",
            "  80  2.1351168e-03 1.59e-03 1.16e-01 -11.0 3.40e-02    -  1.00e+00 5.00e-01h  2\n",
            "  81  1.5084752e-03 2.20e-03 1.20e-01 -11.0 5.16e-02    -  1.00e+00 5.00e-01h  2\n",
            "  82  1.3441400e-03 2.09e-03 7.73e-02 -11.0 1.07e-01    -  1.00e+00 6.25e-02h  5\n",
            "  83  1.0807292e-03 1.67e-03 7.06e-02 -11.0 1.35e-01    -  1.00e+00 2.50e-01h  3\n",
            "  84  1.0288216e-03 1.43e-03 9.91e-02 -11.0 1.08e+00    -  1.00e+00 3.12e-02h  6\n",
            "  85  8.7543349e-04 1.35e-03 9.63e-02 -11.0 1.34e-01    -  1.00e+00 1.25e-01h  4\n",
            "  86  1.0865915e-03 9.95e-04 1.12e-01 -11.0 9.81e-03    -  1.00e+00 2.50e-01h  3\n",
            "  87  6.0271910e-04 2.46e-04 1.51e-02 -11.0 1.03e-02    -  1.00e+00 1.00e+00h  1\n",
            "  88  1.0539527e-03 1.39e-04 1.41e-01 -11.0 3.85e-02    -  1.00e+00 1.00e+00H  1\n",
            "  89  1.0106047e-03 9.97e-05 1.47e-01 -11.0 1.26e+00    -  1.00e+00 7.81e-03h  8\n",
            "iter    objective    inf_pr   inf_du lg(mu)  ||d||  lg(rg) alpha_du alpha_pr  ls\n",
            "  90  9.6946631e-04 1.33e-04 1.43e-01 -11.0 4.00e+01    -  1.00e+00 2.44e-04h 13\n",
            "  91  9.6371044e-04 1.34e-04 1.40e-01 -11.0 1.06e+01    -  1.00e+00 4.88e-04h 12\n",
            "  92  9.1271990e-04 1.34e-04 1.21e-01 -11.0 3.00e-01    -  1.00e+00 3.12e-02h  6\n",
            "  93  8.6010245e-04 1.47e-04 1.17e-01 -11.0 5.40e-01    -  1.00e+00 1.56e-02h  7\n",
            "  94  8.0676203e-04 1.70e-04 1.09e-01 -11.0 7.19e+00    -  1.00e+00 9.77e-04h 11\n",
            "  95  7.7855737e-04 1.73e-04 1.03e-01 -11.0 2.17e+01    -  1.00e+00 2.44e-04h 13\n",
            "  96  7.2518556e-04 1.91e-04 1.29e-01 -11.0 1.03e+01    -  1.00e+00 4.88e-04h 12\n",
            "  97  6.2960685e-04 9.07e-04 1.06e-01 -11.0 9.28e-01    -  1.00e+00 3.12e-02h  6\n",
            "  98  5.9739192e-04 1.25e-03 1.08e-01 -11.0 9.25e+00    -  1.00e+00 3.91e-03h  9\n",
            "  99  3.9305833e+00 1.73e+02 7.76e+00 -11.0 7.12e+00    -  1.00e+00 1.00e+00w  1\n",
            "iter    objective    inf_pr   inf_du lg(mu)  ||d||  lg(rg) alpha_du alpha_pr  ls\n",
            " 100  4.3968700e+01 3.93e+01 2.35e+03 -11.0 1.09e+01    -  1.00e+00 1.00e+00w  1\n",
            " 101  2.0980313e+03 1.02e+01 1.87e+02 -11.0 6.35e+00    -  1.00e+00 1.00e+00w  1\n",
            " 102  6.1678136e-04 1.34e-03 1.20e-01 -11.0 4.29e+00    -  1.00e+00 3.91e-03h  8\n",
            " 103  4.1047904e-04 1.67e-04 3.23e-02 -11.0 5.00e-03    -  1.00e+00 1.00e+00h  1\n",
            " 104  4.0323003e-04 9.73e-04 7.65e-02 -11.0 1.29e-02    -  1.00e+00 1.00e+00h  1\n",
            " 105  3.8610571e-04 1.07e-03 4.53e-02 -11.0 1.49e-01    -  1.00e+00 3.12e-02h  6\n",
            " 106  3.8707734e-04 1.00e-03 4.56e-02 -11.0 8.50e-03    -  1.00e+00 6.25e-02h  5\n",
            " 107  3.2971060e-04 3.79e-04 3.17e-03 -11.0 8.00e-03    -  1.00e+00 1.00e+00h  1\n",
            " 108  7.3188208e-04 2.52e-04 7.77e-02 -11.0 7.36e-03    -  1.00e+00 1.00e+00h  1\n",
            " 109  3.4191602e-04 1.49e-04 3.91e-02 -11.0 5.18e-03    -  1.00e+00 1.00e+00h  1\n",
            "iter    objective    inf_pr   inf_du lg(mu)  ||d||  lg(rg) alpha_du alpha_pr  ls\n",
            " 110  6.8016015e-04 8.19e-05 1.53e-01 -11.0 4.09e-03    -  1.00e+00 1.00e+00h  1\n",
            " 111  3.1789478e-04 6.62e-05 4.76e-03 -11.0 3.72e-03    -  1.00e+00 1.00e+00h  1\n",
            " 112  3.1800455e-04 1.15e-05 8.37e-03 -11.0 1.17e-03    -  1.00e+00 1.00e+00h  1\n",
            " 113  3.2076316e-04 2.85e-08 2.63e-02 -11.0 2.73e-03    -  1.00e+00 1.00e+00H  1\n",
            " 114  3.8182006e-04 3.76e-09 2.87e-02 -11.0 1.62e-02    -  1.00e+00 1.00e+00H  1\n",
            " 115  3.8050552e-04 1.70e-08 2.82e-02 -11.0 1.40e-02    -  1.00e+00 3.91e-03h  9\n",
            " 116  2.5929477e-04 8.19e-04 2.05e-02 -11.0 1.00e-02    -  1.00e+00 1.00e+00h  1\n",
            " 117  2.8866260e-04 6.60e-04 2.59e-02 -11.0 7.64e-03    -  1.00e+00 1.00e+00h  1\n",
            " 118  2.8152352e-04 6.90e-04 3.38e-02 -11.0 7.59e-02    -  1.00e+00 3.12e-02h  6\n",
            " 119  2.4764474e-04 8.98e-04 2.80e-02 -11.0 5.09e-02    -  1.00e+00 2.50e-01h  3\n",
            "iter    objective    inf_pr   inf_du lg(mu)  ||d||  lg(rg) alpha_du alpha_pr  ls\n",
            " 120  2.3647880e-04 9.43e-04 4.68e-02 -11.0 6.47e-01    -  1.00e+00 7.81e-03h  8\n",
            " 121  2.2132409e-04 9.93e-04 2.85e-02 -11.0 4.88e-02    -  1.00e+00 2.50e-01h  3\n",
            " 122  2.3336473e-04 9.66e-04 3.45e-02 -11.0 5.01e-02    -  1.00e+00 3.12e-02h  6\n",
            " 123  2.1804671e-04 2.26e-04 1.38e-02 -11.0 8.07e-03    -  1.00e+00 1.00e+00h  1\n",
            " 124  2.1032778e-04 3.92e-04 1.37e-02 -11.0 2.38e-01    -  1.00e+00 3.12e-02h  6\n",
            " 125  2.1412826e-04 3.82e-04 1.34e-02 -11.0 2.30e-02    -  1.00e+00 3.12e-02h  6\n",
            " 126  2.0555925e-04 6.39e-05 5.26e-04 -11.0 4.20e-03    -  1.00e+00 1.00e+00h  1\n",
            " 127  2.1360030e-04 1.09e-05 1.20e-02 -11.0 1.75e-03    -  1.00e+00 1.00e+00h  1\n",
            " 128  2.1407788e-04 5.14e-06 1.34e-02 -11.0 1.23e-03    -  1.00e+00 1.00e+00h  1\n",
            " 129  2.2467001e-04 2.42e-07 2.13e-02 -11.0 4.23e-03    -  1.00e+00 1.00e+00H  1\n",
            "iter    objective    inf_pr   inf_du lg(mu)  ||d||  lg(rg) alpha_du alpha_pr  ls\n",
            " 130  3.8311974e-04 1.97e-09 2.59e-02 -11.0 2.15e-02    -  1.00e+00 1.00e+00H  1\n",
            " 131  3.8282174e-04 4.00e-09 2.58e-02 -11.0 5.23e-02    -  1.00e+00 4.88e-04h 12\n",
            " 132  3.8236470e-04 3.89e-09 2.59e-02 -11.0 7.04e-02    -  1.00e+00 4.88e-04h 12\n",
            " 133  3.8174002e-04 1.58e-08 2.59e-02 -11.0 3.37e-01    -  1.00e+00 2.44e-04h 13\n",
            " 134  3.8158625e-04 1.75e-08 2.58e-02 -11.0 4.36e-01    -  1.00e+00 6.10e-05h 15\n",
            " 135  3.7421705e-04 1.66e-05 2.86e-02 -11.0 1.18e-01    -  1.00e+00 1.56e-02h  7\n",
            " 136  2.9879155e-04 1.66e-03 4.71e-02 -11.0 2.66e-02    -  1.00e+00 1.00e+00h  1\n",
            " 137  2.7220548e-04 2.14e-03 3.87e-02 -11.0 4.92e-01    -  1.00e+00 3.12e-02h  6\n",
            " 138  2.6291124e-04 2.22e-03 3.86e-02 -11.0 4.32e-01    -  1.00e+00 1.56e-02h  7\n",
            " 139  2.7098816e-04 2.16e-03 3.73e-02 -11.0 7.66e-02    -  1.00e+00 6.25e-02h  5\n",
            "iter    objective    inf_pr   inf_du lg(mu)  ||d||  lg(rg) alpha_du alpha_pr  ls\n",
            " 140  2.6035084e-04 1.48e-03 3.15e-02 -11.0 4.34e-02    -  1.00e+00 2.50e-01h  3\n",
            " 141  2.1047768e-04 1.66e-03 3.26e-02 -11.0 3.06e-01    -  1.00e+00 6.25e-02h  5\n",
            " 142  2.2807232e-04 1.70e-03 4.38e-02 -11.0 2.87e-01    -  1.00e+00 1.56e-02h  7\n",
            " 143  1.9661754e-04 3.48e-04 1.87e-02 -11.0 1.22e-02    -  1.00e+00 1.00e+00h  1\n",
            " 144  1.8929527e-04 3.97e-04 1.86e-02 -11.0 3.54e-01    -  1.00e+00 1.56e-02h  7\n",
            " 145  2.0310367e-04 3.25e-04 2.35e-02 -11.0 8.03e-02    -  1.00e+00 1.25e-01h  4\n",
            " 146  1.9991111e-04 3.14e-04 2.44e-02 -11.0 7.48e-02    -  1.00e+00 1.56e-02h  7\n",
            " 147  1.8011817e-04 3.85e-04 2.47e-02 -11.0 8.97e-03    -  1.00e+00 1.00e+00h  1\n",
            " 148  1.7406118e-04 3.83e-04 1.57e-02 -11.0 3.01e-01    -  1.00e+00 1.56e-02h  7\n",
            " 149  1.7289900e-04 4.21e-04 1.61e-02 -11.0 1.55e-01    -  1.00e+00 3.12e-02h  6\n",
            "iter    objective    inf_pr   inf_du lg(mu)  ||d||  lg(rg) alpha_du alpha_pr  ls\n",
            " 150  1.7199520e-04 4.08e-04 1.86e-02 -11.0 2.77e-02    -  1.00e+00 3.12e-02h  6\n",
            " 151  1.8307513e-04 1.70e-05 1.75e-02 -11.0 1.43e-02    -  1.00e+00 1.00e+00H  1\n",
            " 152  1.7361875e-04 9.35e-05 1.85e-02 -11.0 5.97e-01    -  1.00e+00 7.81e-03h  8\n",
            " 153  1.7174674e-04 1.06e-04 2.18e-02 -11.0 1.10e-01    -  1.00e+00 1.56e-02h  7\n",
            " 154  1.6588490e-04 1.85e-04 1.87e-02 -11.0 3.65e-02    -  1.00e+00 1.25e-01h  4\n",
            " 155  1.6907392e-04 1.81e-04 2.26e-02 -11.0 4.00e-02    -  1.00e+00 3.12e-02h  6\n",
            " 156  2.1290876e-04 4.16e-07 3.59e-02 -11.0 1.95e-02    -  1.00e+00 1.00e+00H  1\n",
            " 157  2.1072081e-04 1.74e-06 3.62e-02 -11.0 4.02e-02    -  1.00e+00 1.56e-02h  7\n",
            " 158  1.5195089e-04 1.80e-03 5.12e-03 -11.0 2.15e-02    -  1.00e+00 1.00e+00h  1\n",
            " 159  1.6334919e-04 1.61e-03 2.44e-02 -11.0 5.33e-02    -  1.00e+00 1.25e-01h  4\n",
            "iter    objective    inf_pr   inf_du lg(mu)  ||d||  lg(rg) alpha_du alpha_pr  ls\n",
            " 160  1.6338012e-04 1.58e-03 2.82e-02 -11.0 7.08e-02    -  1.00e+00 6.25e-02h  5\n",
            " 161  1.6249236e-04 1.60e-03 2.54e-02 -11.0 3.91e-01    -  1.00e+00 7.81e-03h  8\n",
            " 162  1.6174808e-04 1.59e-03 2.71e-02 -11.0 1.07e-01    -  1.00e+00 7.81e-03h  8\n",
            " 163  2.7046622e-04 2.11e-08 3.05e-02 -11.0 3.92e-02    -  1.00e+00 1.00e+00H  1\n",
            " 164  2.7018692e-04 1.29e-07 3.08e-02 -11.0 4.31e-01    -  1.00e+00 4.88e-04h 12\n",
            " 165  2.6913580e-04 4.36e-07 3.12e-02 -11.0 3.11e-01    -  1.00e+00 9.77e-04h 11\n",
            " 166  2.6896413e-04 4.46e-07 3.12e-02 -11.0 4.15e-01    -  1.00e+00 1.22e-04h 14\n",
            " 167  2.3156866e-04 1.25e-03 3.03e-02 -11.0 2.55e-01    -  1.00e+00 6.25e-02h  5\n",
            " 168  1.8356218e-04 1.85e-03 4.94e-02 -11.0 7.04e-01    -  1.00e+00 1.56e-02h  7\n",
            " 169  1.6861230e-04 2.29e-03 4.77e-02 -11.0 1.10e+00    -  1.00e+00 1.56e-02h  7\n",
            "iter    objective    inf_pr   inf_du lg(mu)  ||d||  lg(rg) alpha_du alpha_pr  ls\n",
            " 170  1.5998347e-04 3.13e-03 4.97e-02 -11.0 2.16e+00    -  1.00e+00 7.81e-03h  8\n",
            " 171  1.6336391e-04 3.07e-03 4.47e-02 -11.0 2.86e-01    -  1.00e+00 1.56e-02h  7\n",
            " 172  1.5698130e-04 2.96e-03 3.55e-02 -11.0 1.54e-01    -  1.00e+00 3.12e-02h  6\n",
            " 173  1.4411398e-04 3.43e-03 3.72e-02 -11.0 3.76e-01    -  1.00e+00 3.12e-02h  6\n",
            " 174  1.1853653e+00 1.88e+00 6.34e+00 -11.0 1.04e+00    -  1.00e+00 1.00e+00w  1\n",
            " 175  2.6075065e-01 8.43e-01 2.43e+00 -11.0 3.87e-01    -  1.00e+00 1.00e+00w  1\n",
            " 176  8.7140515e+00 1.40e+00 1.97e+01 -11.0 9.66e-01    -  1.00e+00 1.00e+00w  1\n",
            " 177  1.3755242e-04 3.42e-03 3.55e-02 -11.0 1.07e+00    -  1.00e+00 3.91e-03h  8\n",
            " 178  1.7939652e-04 1.72e-03 3.47e-02 -11.0 6.22e-03    -  1.00e+00 5.00e-01h  2\n",
            " 179  1.3116241e-04 2.79e-04 1.75e-02 -11.0 7.02e-03    -  1.00e+00 1.00e+00h  1\n",
            "iter    objective    inf_pr   inf_du lg(mu)  ||d||  lg(rg) alpha_du alpha_pr  ls\n",
            " 180  1.8634665e-03 2.46e-08 1.09e-01 -11.0 4.06e-02    -  1.00e+00 1.00e+00H  1\n",
            " 181  5.1081856e-04 7.32e-09 5.64e-02 -11.0 2.46e-02    -  1.00e+00 1.00e+00F  1\n",
            " 182  2.5843589e-04 9.24e-05 6.77e-02 -11.0 1.39e-01    -  1.00e+00 6.25e-02f  5\n",
            " 183  1.9281437e-04 4.93e-05 4.86e-02 -11.0 1.59e-03    -  1.00e+00 5.00e-01h  2\n",
            " 184  1.1953025e-04 2.73e-05 1.22e-02 -11.0 2.20e-03    -  1.00e+00 1.00e+00h  1\n",
            " 185  1.4160233e-04 3.13e-06 2.59e-02 -11.0 6.93e-04    -  1.00e+00 1.00e+00h  1\n",
            " 186  1.1772782e-04 1.18e-06 3.65e-04 -11.0 5.75e-04    -  1.00e+00 1.00e+00h  1\n",
            " 187  1.1769549e-04 7.79e-09 3.06e-04 -11.0 4.99e-05    -  1.00e+00 1.00e+00h  1\n",
            " 188  1.1720438e-04 9.58e-06 2.95e-03 -11.0 2.83e-02    -  1.00e+00 6.25e-02h  5\n",
            " 189  1.7920776e-04 3.61e-10 2.56e-02 -11.0 3.13e-02    -  1.00e+00 1.00e+00H  1\n",
            "iter    objective    inf_pr   inf_du lg(mu)  ||d||  lg(rg) alpha_du alpha_pr  ls\n",
            " 190  1.7919586e-04 2.32e-09 2.56e-02 -11.0 1.86e+00    -  1.00e+00 1.53e-05h 17\n",
            " 191  1.7918254e-04 5.58e-09 2.56e-02 -11.0 8.77e+00    -  1.00e+00 3.81e-06h 19\n",
            " 192  1.7917638e-04 6.29e-09 2.56e-02 -11.0 4.12e+03    -  1.00e+00 3.73e-09h 29\n",
            " 193  1.7917082e-04 6.86e-09 2.56e-02 -11.0 1.49e+04    -  1.00e+00 9.31e-10f 31\n",
            " 194  1.6925685e-04 4.03e-02 4.64e-02 -11.0 1.49e+04    -  1.00e+00 7.63e-06f 18\n",
            " 195  1.6768779e-04 4.11e-02 3.66e-02 -11.0 2.98e+02    -  1.00e+00 6.10e-05h 15\n",
            " 196  1.6727023e-04 4.33e-02 3.16e-02 -11.0 6.02e+01    -  1.00e+00 4.88e-04h 12\n",
            " 197  1.2049139e-04 4.40e-02 3.64e-02 -11.0 6.33e+01    -  1.00e+00 2.44e-04h 13\n",
            " 198  1.1801255e-04 8.75e-02 3.39e-02 -11.0 2.38e-01    -  1.00e+00 1.00e+00H  1\n",
            " 199  1.8795573e-04 1.58e-02 4.90e-02 -11.0 1.17e+01    -  1.00e+00 1.56e-02h  7\n",
            "iter    objective    inf_pr   inf_du lg(mu)  ||d||  lg(rg) alpha_du alpha_pr  ls\n",
            " 200  1.8777151e-04 1.58e-02 5.40e-02 -11.0 1.07e+01    -  1.00e+00 1.22e-04h 14\n",
            " 201  1.6637085e-04 1.61e-02 6.47e-02 -11.0 8.11e-01    -  1.00e+00 1.56e-02h  7\n",
            " 202  1.6228396e-04 1.61e-02 5.33e-02 -11.0 7.29e-01    -  1.00e+00 3.91e-03h  9\n",
            " 203  9.9275385e-03 1.08e-02 4.25e-01 -11.0 1.30e-01    -  1.00e+00 1.00e+00H  1\n",
            " 204  7.5301495e-03 1.66e-03 3.67e-01 -11.0 3.55e-01    -  1.00e+00 1.25e-01h  4\n",
            " 205  6.6881066e-03 1.32e-02 3.42e-01 -11.0 6.13e+00    -  1.00e+00 7.81e-03h  8\n",
            " 206  6.3694615e-03 1.84e-02 3.47e-01 -11.0 2.20e+01    -  1.00e+00 1.95e-03h 10\n",
            " 207  6.0201282e-03 1.93e-02 3.44e-01 -11.0 5.39e-01    -  1.00e+00 3.12e-02h  6\n",
            " 208  5.2536994e-03 2.03e-02 3.21e-01 -11.0 7.80e+00    -  1.00e+00 1.95e-03h 10\n",
            " 209  5.2085792e-03 2.03e-02 3.19e-01 -11.0 1.82e+01    -  1.00e+00 6.10e-05h 15\n",
            "iter    objective    inf_pr   inf_du lg(mu)  ||d||  lg(rg) alpha_du alpha_pr  ls\n",
            " 210  5.1980146e-03 2.03e-02 3.18e-01 -11.0 5.08e+00    -  1.00e+00 2.44e-04h 13\n",
            " 211  5.1921213e-03 2.03e-02 3.18e-01 -11.0 8.38e+00    -  1.00e+00 1.22e-04h 14\n",
            " 212  4.8376807e-03 1.63e-01 2.99e-01 -11.0 1.06e+01    -  1.00e+00 1.56e-02h  7\n",
            " 213  2.2505551e-03 2.69e-01 2.91e-01 -11.0 3.32e+01    -  1.00e+00 7.81e-03h  8\n",
            " 214  2.2014712e+01 6.04e+00 2.32e+01 -11.0 1.50e+00    -  1.00e+00 1.00e+00w  1\n",
            " 215  1.2644914e+01 1.55e+01 1.11e+02 -11.0 3.62e+00    -  1.00e+00 1.00e+00w  1\n",
            " 216  4.6143335e+03 6.04e+01 3.15e+02 -11.0 2.42e+01    -  1.00e+00 1.00e+00w  1\n",
            " 217  2.3820570e-03 2.68e-01 1.81e-01 -11.0 2.30e+01    -  1.00e+00 7.81e-03h  7\n",
            " 218  3.9141461e-03 2.01e-01 1.98e-01 -11.0 9.50e-02    -  1.00e+00 2.50e-01h  3\n",
            " 219  5.2857298e-03 2.37e-03 2.50e-01 -11.0 1.38e-02    -  1.00e+00 1.00e+00h  1\n",
            "iter    objective    inf_pr   inf_du lg(mu)  ||d||  lg(rg) alpha_du alpha_pr  ls\n",
            " 220  4.3039593e-03 3.70e-05 1.98e-01 -11.0 1.03e-02    -  1.00e+00 1.00e+00h  1\n",
            " 221  1.7986723e-03 7.91e-05 4.23e-02 -11.0 4.98e-03    -  1.00e+00 1.00e+00h  1\n",
            " 222  1.5254992e-03 6.03e-05 4.62e-02 -11.0 8.26e-03    -  1.00e+00 1.00e+00h  1\n",
            " 223  2.8970963e-02 2.06e-05 8.66e-01 -11.0 2.34e-01    -  1.00e+00 1.00e+00H  1\n",
            " 224  2.7167652e-02 3.81e-05 8.46e-01 -11.0 1.06e-01    -  1.00e+00 3.12e-02h  6\n",
            " 225  9.0759691e-03 1.42e-05 3.61e-01 -11.0 2.67e-01    -  1.00e+00 1.00e+00F  1\n",
            " 226  8.5981683e-03 2.29e-05 3.38e-01 -11.0 1.32e+00    -  1.00e+00 1.95e-03f 10\n",
            " 227  2.8008844e-03 1.08e-05 1.71e-01 -11.0 6.34e-02    -  1.00e+00 1.00e+00H  1\n",
            " 228  2.1946642e-03 2.18e-05 1.48e-01 -11.0 3.39e-01    -  1.00e+00 1.56e-02h  7\n",
            " 229  1.1145049e-02 4.41e-06 6.97e-01 -11.0 7.05e-02    -  1.00e+00 1.00e+00H  1\n",
            "iter    objective    inf_pr   inf_du lg(mu)  ||d||  lg(rg) alpha_du alpha_pr  ls\n",
            " 230  1.0772160e-02 7.47e-06 6.85e-01 -11.0 1.50e-01    -  1.00e+00 1.56e-02h  7\n",
            " 231  1.0629354e-02 7.57e-06 6.77e-01 -11.0 3.23e-01    -  1.00e+00 9.77e-04h 11\n",
            " 232  1.0506619e-02 7.64e-06 6.76e-01 -11.0 3.74e-02    -  1.00e+00 3.91e-03h  9\n",
            " 233  3.0282239e-03 7.23e-07 1.80e-01 -11.0 5.10e-02    -  1.00e+00 1.00e+00F  1\n",
            " 234  1.8193373e-03 2.59e-04 2.25e-01 -11.0 1.46e-01    -  1.00e+00 1.25e-01f  4\n",
            " 235  2.1217119e-02 2.24e-04 5.20e-01 -11.0 5.12e-02    -  1.00e+00 1.00e+00H  1\n",
            " 236  1.3947913e-03 3.27e-03 1.35e-01 -11.0 4.62e-02    -  1.00e+00 1.00e+00h  1\n",
            " 237  1.1433259e-03 2.26e-03 9.98e-02 -11.0 2.92e-02    -  1.00e+00 5.00e-01h  2\n",
            " 238  1.3046853e-03 1.26e-03 1.30e-01 -11.0 7.24e-03    -  1.00e+00 5.00e-01h  2\n",
            " 239  6.3210937e-04 1.40e-04 2.22e-02 -11.0 5.63e-03    -  1.00e+00 1.00e+00h  1\n",
            "iter    objective    inf_pr   inf_du lg(mu)  ||d||  lg(rg) alpha_du alpha_pr  ls\n",
            " 240  6.5588051e-04 7.42e-06 2.97e-02 -11.0 1.27e-03    -  1.00e+00 1.00e+00h  1\n",
            " 241  6.1520485e-04 3.24e-06 7.45e-03 -11.0 6.48e-04    -  1.00e+00 1.00e+00h  1\n",
            " 242  6.1202607e-04 4.09e-07 4.92e-03 -11.0 3.52e-04    -  1.00e+00 1.00e+00h  1\n",
            " 243  6.0209438e-04 4.05e-06 7.87e-03 -11.0 8.17e-04    -  1.00e+00 1.00e+00h  1\n",
            " 244  5.9175112e-04 3.95e-03 9.49e-02 -11.0 2.25e-01    -  1.00e+00 1.25e-01h  4\n",
            " 245  5.8785311e-04 3.92e-03 9.96e-02 -11.0 1.94e-01    -  1.00e+00 1.56e-02h  7\n",
            " 246  5.3331630e-04 2.02e-03 8.83e-02 -11.0 8.77e-03    -  1.00e+00 5.00e-01h  2\n",
            " 247  3.4735392e-04 1.01e-03 4.87e-02 -11.0 4.05e-03    -  1.00e+00 5.00e-01h  2\n",
            " 248  2.9461134e-04 5.74e-04 2.53e-02 -11.0 1.09e-02    -  1.00e+00 1.00e+00h  1\n",
            " 249  2.6922622e-04 1.04e-03 2.53e-02 -11.0 3.30e-01    -  1.00e+00 3.12e-02h  6\n",
            "iter    objective    inf_pr   inf_du lg(mu)  ||d||  lg(rg) alpha_du alpha_pr  ls\n",
            " 250  2.8590346e-04 9.71e-04 3.49e-02 -11.0 3.73e-02    -  1.00e+00 6.25e-02h  5\n",
            " 251  2.2446096e-04 3.98e-05 2.70e-02 -11.0 2.55e-03    -  1.00e+00 1.00e+00h  1\n",
            " 252  5.8927353e-04 1.06e-06 1.06e-01 -11.0 1.86e-02    -  1.00e+00 1.00e+00H  1\n",
            " 253  5.6919269e-04 1.16e-05 1.12e-01 -11.0 7.42e-02    -  1.00e+00 1.56e-02h  7\n",
            " 254  5.4005931e-04 2.50e-05 1.08e-01 -11.0 1.77e-01    -  1.00e+00 7.81e-03h  8\n",
            " 255  4.9850932e-04 2.80e-05 9.90e-02 -11.0 4.94e-01    -  1.00e+00 1.95e-03h 10\n",
            " 256  6.0162904e-03 2.89e-07 2.60e-01 -11.0 3.58e-02    -  1.00e+00 1.00e+00H  1\n",
            " 257  6.1151186e-04 3.92e-07 1.03e-01 -11.0 2.28e-02    -  1.00e+00 1.00e+00F  1\n",
            " 258  2.7001827e-03 3.05e-07 1.76e-01 -11.0 1.43e-02    -  1.00e+00 1.00e+00H  1\n",
            " 259  1.3253512e-04 7.71e-05 3.29e-02 -11.0 4.18e-03    -  1.00e+00 1.00e+00f  1\n",
            "iter    objective    inf_pr   inf_du lg(mu)  ||d||  lg(rg) alpha_du alpha_pr  ls\n",
            " 260  7.8867541e-05 5.47e-04 6.61e-03 -11.0 8.11e-03    -  1.00e+00 1.00e+00h  1\n",
            " 261  4.1154542e-03 2.21e-07 2.86e-01 -11.0 4.85e-02    -  1.00e+00 1.00e+00H  1\n",
            " 262  2.8336402e-04 5.27e-05 7.29e-02 -11.0 4.17e-02    -  1.00e+00 1.00e+00F  1\n",
            " 263  1.0144445e-04 2.62e-04 2.72e-02 -11.0 7.15e-02    -  1.00e+00 6.25e-02h  5\n",
            " 264  8.9480864e-04 1.27e-07 1.23e-01 -11.0 1.03e-02    -  1.00e+00 1.00e+00H  1\n",
            " 265  9.1240426e-05 2.76e-04 2.08e-02 -11.0 1.79e-02    -  1.00e+00 1.00e+00F  1\n",
            " 266  9.0200376e-05 2.25e-04 1.65e-02 -11.0 2.67e-02    -  1.00e+00 6.25e-02h  5\n",
            " 267  7.2543208e-05 6.65e-05 2.84e-03 -11.0 2.39e-03    -  1.00e+00 1.00e+00h  1\n",
            " 268  4.2670652e-04 4.30e-05 7.26e-02 -11.0 3.75e-03    -  1.00e+00 1.00e+00h  1\n",
            " 269  7.1761577e-05 3.34e-05 1.60e-03 -11.0 3.49e-03    -  1.00e+00 1.00e+00h  1\n",
            "iter    objective    inf_pr   inf_du lg(mu)  ||d||  lg(rg) alpha_du alpha_pr  ls\n",
            " 270  7.1636530e-05 4.89e-07 1.73e-03 -11.0 2.38e-04    -  1.00e+00 1.00e+00h  1\n",
            " 271  6.8926119e-05 4.49e-04 9.17e-03 -11.0 7.50e-03    -  1.00e+00 1.00e+00h  1\n",
            " 272  6.8836860e-05 4.57e-04 1.15e-02 -11.0 2.82e-01    -  1.00e+00 3.91e-03h  9\n",
            " 273  1.0138346e-03 1.40e-08 8.29e-02 -11.0 1.49e-02    -  1.00e+00 1.00e+00H  1\n",
            " 274  2.5511903e-04 3.13e-07 4.68e-02 -11.0 7.80e-03    -  1.00e+00 1.00e+00F  1\n",
            " 275  2.5007042e-04 4.34e-07 4.60e-02 -11.0 2.97e-02    -  1.00e+00 3.91e-03h  9\n",
            " 276  2.4831080e-04 5.46e-07 4.59e-02 -11.0 4.99e-02    -  1.00e+00 1.95e-03h 10\n",
            " 277  3.2610493e-03 3.67e-07 2.31e-01 -11.0 1.71e-02    -  1.00e+00 1.00e+00H  1\n",
            " 278  2.2055182e-04 2.62e-08 3.46e-02 -11.0 5.85e-03    -  1.00e+00 1.00e+00F  1\n",
            " 279  7.1594108e-05 2.19e-04 1.06e-02 -11.0 4.73e-03    -  1.00e+00 1.00e+00h  1\n",
            "iter    objective    inf_pr   inf_du lg(mu)  ||d||  lg(rg) alpha_du alpha_pr  ls\n",
            " 280  6.7281258e-05 1.93e-04 6.99e-03 -11.0 3.43e-03    -  1.00e+00 1.25e-01h  4\n",
            " 281  6.5704728e-05 2.69e-06 3.97e-04 -11.0 5.58e-04    -  1.00e+00 1.00e+00h  1\n",
            " 282  6.5837478e-05 1.82e-06 2.48e-03 -11.0 5.08e-04    -  1.00e+00 1.00e+00h  1\n",
            " 283  9.1597822e-05 1.25e-08 9.74e-03 -11.0 8.14e-03    -  1.00e+00 1.00e+00H  1\n",
            " 284  1.0968051e-04 8.31e-09 2.43e-02 -11.0 6.97e-03    -  1.00e+00 1.00e+00H  1\n",
            " 285  1.0954588e-04 9.52e-09 2.42e-02 -11.0 7.76e-02    -  1.00e+00 2.44e-04h 13\n",
            " 286  7.9698282e-04 1.21e-09 8.18e-02 -11.0 1.00e-02    -  1.00e+00 1.00e+00H  1\n",
            " 287  1.0560360e-04 4.90e-09 1.48e-02 -11.0 5.80e-03    -  1.00e+00 1.00e+00F  1\n",
            " 288  1.5464627e-04 2.44e-10 2.96e-02 -11.0 8.94e-03    -  1.00e+00 1.00e+00H  1\n",
            " 289  1.5414198e-04 3.96e-09 2.94e-02 -11.0 2.21e-02    -  1.00e+00 9.77e-04h 11\n",
            "iter    objective    inf_pr   inf_du lg(mu)  ||d||  lg(rg) alpha_du alpha_pr  ls\n",
            " 290  8.7125705e-05 2.08e-08 1.71e-02 -11.0 5.25e-03    -  1.00e+00 1.00e+00H  1\n",
            " 291  8.5317245e-05 1.99e-07 1.60e-02 -11.0 3.67e-02    -  1.00e+00 3.91e-03h  9\n",
            " 292  1.0654767e-04 1.42e-10 1.53e-02 -11.0 5.92e-03    -  1.00e+00 1.00e+00H  1\n",
            " 293  1.0582267e-04 5.21e-09 1.50e-02 -11.0 6.99e-03    -  1.00e+00 3.91e-03h  9\n",
            " 294  1.7767293e-04 3.06e-11 3.86e-02 -11.0 3.57e-03    -  1.00e+00 1.00e+00H  1\n",
            " 295  1.2301699e-04 1.50e-12 2.02e-02 -11.0 7.34e-03    -  1.00e+00 1.00e+00F  1\n",
            " 296  1.0441763e-04 1.79e-06 2.12e-02 -11.0 3.28e-03    -  1.00e+00 1.25e-01f  4\n",
            " 297  7.0184820e-05 7.08e-05 9.54e-03 -11.0 3.84e-03    -  1.00e+00 1.00e+00h  1\n",
            " 298  2.9456225e-04 1.47e-11 6.02e-02 -11.0 8.99e-03    -  1.00e+00 1.00e+00H  1\n",
            " 299  1.5976659e-04 1.02e-11 3.34e-02 -11.0 3.11e-03    -  1.00e+00 1.00e+00F  1\n",
            "iter    objective    inf_pr   inf_du lg(mu)  ||d||  lg(rg) alpha_du alpha_pr  ls\n",
            " 300  9.0243527e-05 3.54e-05 1.30e-02 -11.0 3.77e-03    -  1.00e+00 5.00e-01f  2\n",
            " 301  8.8772265e-05 3.35e-05 3.18e-02 -11.0 2.86e-03    -  1.00e+00 1.00e+00h  1\n",
            " 302  7.4061017e-05 5.09e-05 2.19e-02 -11.0 3.12e-03    -  1.00e+00 1.00e+00h  1\n",
            " 303  1.5721832e-04 4.49e-13 3.12e-02 -11.0 8.36e-03    -  1.00e+00 1.00e+00H  1\n",
            " 304  1.5714794e-04 9.60e-11 3.12e-02 -11.0 1.60e-02    -  1.00e+00 2.44e-04f 13\n",
            " 305  9.4167389e-05 1.59e-06 3.02e-02 -11.0 2.49e-03    -  1.00e+00 5.00e-01f  2\n",
            " 306  8.4502126e-05 3.99e-05 3.00e-02 -11.0 2.96e-03    -  1.00e+00 1.00e+00h  1\n",
            " 307  7.4344504e-05 1.61e-07 1.36e-02 -11.0 3.56e-03    -  1.00e+00 1.00e+00H  1\n",
            " 308  2.4040833e-03 5.35e-11 1.63e-01 -11.0 1.47e-02    -  1.00e+00 1.00e+00H  1\n",
            " 309  7.2078581e-05 1.09e-05 8.71e-03 -11.0 1.40e-02    -  1.00e+00 1.00e+00F  1\n",
            "iter    objective    inf_pr   inf_du lg(mu)  ||d||  lg(rg) alpha_du alpha_pr  ls\n",
            " 310  2.7833127e-04 5.77e-13 5.30e-02 -11.0 3.65e-03    -  1.00e+00 1.00e+00H  1\n",
            " 311  6.5803739e-05 1.92e-05 3.23e-03 -11.0 2.33e-03    -  1.00e+00 1.00e+00f  1\n",
            " 312  6.5685716e-05 5.04e-07 1.42e-03 -11.0 2.85e-04    -  1.00e+00 1.00e+00h  1\n",
            " 313  7.2428178e-05 2.65e-07 1.34e-02 -11.0 3.79e-03    -  1.00e+00 1.00e+00H  1\n",
            " 314  7.2253928e-05 3.80e-07 1.37e-02 -11.0 2.02e-02    -  1.00e+00 7.81e-03h  8\n",
            " 315  1.1672243e-04 2.72e-12 2.26e-02 -11.0 5.95e-03    -  1.00e+00 1.00e+00H  1\n",
            " 316  1.1668910e-04 8.34e-11 2.26e-02 -11.0 1.33e-02    -  1.00e+00 2.44e-04h 13\n",
            " 317  1.1652999e-04 5.83e-11 2.26e-02 -11.0 1.16e-02    -  1.00e+00 2.44e-04h 13\n",
            " 318  7.8632518e-05 9.06e-09 9.98e-03 -11.0 3.82e-03    -  1.00e+00 1.00e+00F  1\n",
            " 319  1.0485743e-03 6.94e-11 1.56e-01 -11.0 4.32e-03    -  1.00e+00 1.00e+00H  1\n",
            "iter    objective    inf_pr   inf_du lg(mu)  ||d||  lg(rg) alpha_du alpha_pr  ls\n",
            " 320  6.5642427e-05 3.98e-05 2.21e-03 -11.0 4.25e-03    -  1.00e+00 1.00e+00f  1\n",
            " 321  6.5378055e-05 1.46e-06 5.84e-04 -11.0 4.76e-04    -  1.00e+00 1.00e+00h  1\n",
            " 322  7.1310838e-05 1.20e-06 1.39e-02 -11.0 4.88e-03    -  1.00e+00 1.00e+00H  1\n",
            " 323  1.8818047e-04 9.87e-11 3.27e-02 -11.0 1.99e-03    -  1.00e+00 1.00e+00H  1\n",
            " 324  6.5387634e-05 8.14e-07 1.35e-03 -11.0 6.74e-03    -  1.00e+00 1.00e+00F  1\n",
            " 325  8.5971512e-05 4.96e-09 1.52e-02 -11.0 5.79e-04    -  1.00e+00 1.00e+00H  1\n",
            " 326  6.5326716e-05 8.53e-07 2.58e-04 -11.0 4.37e-04    -  1.00e+00 1.00e+00h  1\n",
            " 327  6.5325601e-05 8.05e-09 7.13e-05 -11.0 3.48e-05    -  1.00e+00 1.00e+00h  1\n",
            "\n",
            "Number of Iterations....: 327\n",
            "\n",
            "                                   (scaled)                 (unscaled)\n",
            "Objective...............:   6.5325601104060640e-05    6.5325601104060640e-05\n",
            "Dual infeasibility......:   7.1328622022955339e-05    7.1328622022955339e-05\n",
            "Constraint violation....:   8.0463599360898821e-09    8.0463599360898821e-09\n",
            "Complementarity.........:   0.0000000000000000e+00    0.0000000000000000e+00\n",
            "Overall NLP error.......:   7.1328622022955339e-05    7.1328622022955339e-05\n",
            "\n",
            "\n",
            "Number of objective function evaluations             = 1862\n",
            "Number of objective gradient evaluations             = 328\n",
            "Number of equality constraint evaluations            = 1901\n",
            "Number of inequality constraint evaluations          = 0\n",
            "Number of equality constraint Jacobian evaluations   = 328\n",
            "Number of inequality constraint Jacobian evaluations = 0\n",
            "Number of Lagrangian Hessian evaluations             = 0\n",
            "Total CPU secs in IPOPT (w/o function evaluations)   =      0.411\n",
            "Total CPU secs in NLP function evaluations           =      1.081\n",
            "\n",
            "EXIT: Optimal Solution Found.\n",
            " \n",
            " The solution was found.\n",
            " \n",
            " The final value of the objective function is   6.532560110406064E-005\n",
            " \n",
            " ---------------------------------------------------\n",
            " Solver         :  IPOPT (v3.12)\n",
            " Solution time  :    1.57839999999851      sec\n",
            " Objective      :   6.532560110406064E-005\n",
            " Successful solution\n",
            " ---------------------------------------------------\n",
            " \n"
          ]
        },
        {
          "output_type": "display_data",
          "data": {
            "text/plain": [
              "<Figure size 640x480 with 1 Axes>"
            ],
            "image/png": "[encoded data removed]"
          },
          "metadata": {}
        }
      ],
      "source": [
        "from gekko import brain\n",
        "import numpy as np\n",
        "import matplotlib.pyplot as plt\n",
        "\n",
        "# generate training data\n",
        "x = np.linspace(0.0,2*np.pi,20)\n",
        "y = np.sin(x)\n",
        "\n",
        "x = np.array(x)\n",
        "y = np.array(y)\n",
        "\n",
        "b = brain.Brain()\n",
        "b.input_layer(1)\n",
        "b.layer(linear=2)\n",
        "b.layer(tanh=3)\n",
        "b.layer(linear=2)\n",
        "b.output_layer(1)\n",
        "\n",
        "b.learn(x,y) # train\n",
        "xp = np.linspace(-2*np.pi,4*np.pi,100)\n",
        "yp = b.think(xp) # validate\n",
        "\n",
        "plt.figure()\n",
        "plt.plot(x,y,'bo')\n",
        "plt.plot(xp,yp[0],'r-')\n",
        "plt.show()"
      ]
    },
    {
      "cell_type": "markdown",
      "metadata": {
        "id": "pYvZjxbAtRBq"
      },
      "source": [
        "## 8: Solve Differential Equation(s)\n",
        "\n",
        "Solve the following differential equation with initial condition $y(0) = 5$:\n",
        "\n",
        "$ k \\, \\frac{dy}{dt} = -t \\, y$\n",
        "\n",
        "where $k=10$. The solution of $y(t)$ should be reported from an initial time $0$ to final time $20$. Create of plot of the result for $y(t)$ versus $t$."
      ]
    },
    {
      "cell_type": "code",
      "execution_count": 9,
      "metadata": {
        "id": "0xgKU328tRBq",
        "outputId": "f0613c9a-fd7c-4f81-86ef-65493a5ad955",
        "colab": {
          "base_uri": "https://localhost:8080/",
          "height": 466
        }
      },
      "outputs": [
        {
          "output_type": "execute_result",
          "data": {
            "text/plain": [
              "Text(0, 0.5, 'y')"
            ]
          },
          "metadata": {},
          "execution_count": 9
        },
        {
          "output_type": "display_data",
          "data": {
            "text/plain": [
              "<Figure size 640x480 with 1 Axes>"
            ],
            "image/png": "[encoded data removed]"
          },
          "metadata": {}
        }
      ],
      "source": [
        "from gekko import GEKKO\n",
        "import numpy as np\n",
        "import matplotlib.pyplot as plt\n",
        "%matplotlib inline\n",
        "\n",
        "m = GEKKO()\n",
        "m.time = np.linspace(0,20,100)\n",
        "k = 10\n",
        "y = m.Var(value=5.0)\n",
        "t = m.Param(value=m.time)\n",
        "m.Equation(k*y.dt()==-t*y)\n",
        "m.options.IMODE = 4\n",
        "m.solve(disp=False)\n",
        "\n",
        "plt.plot(m.time,y.value)\n",
        "plt.xlabel('time')\n",
        "plt.ylabel('y')"
      ]
    },
    {
      "cell_type": "markdown",
      "metadata": {
        "id": "r_6e8q1qtRBq"
      },
      "source": [
        "## 9: Nonlinear Programming Optimization\n",
        "\n",
        "Solve the following nonlinear optimization problem:\n",
        "\n",
        "$\\min x_1 x_4 \\left(x_1 + x_2 + x_3\\right) + x_3$\n",
        "\n",
        "$\\mathrm{s.t.} \\quad x_1 x_2 x_3 x_4 \\ge 25$\n",
        "\n",
        "$x_1^2 + x_2^2 + x_3^2 + x_4^2 = 40$\n",
        "\n",
        "$1\\le x_1, x_2, x_3, x_4 \\le 5$\n",
        "\n",
        "with initial conditions:\n",
        "\n",
        "$x_0 = (1,5,5,1)$\n"
      ]
    },
    {
      "cell_type": "code",
      "execution_count": 10,
      "metadata": {
        "id": "_6xuH-DLtRBr",
        "outputId": "6efada39-743f-4184-ff57-26cb8a5c17dc",
        "colab": {
          "base_uri": "https://localhost:8080/"
        }
      },
      "outputs": [
        {
          "output_type": "stream",
          "name": "stdout",
          "text": [
            "Results\n",
            "x1: [1.000000057]\n",
            "x2: [4.74299963]\n",
            "x3: [3.8211500283]\n",
            "x4: [1.3794081795]\n",
            "Objective: 17.014017127\n"
          ]
        }
      ],
      "source": [
        "from gekko import GEKKO\n",
        "m = GEKKO() # Initialize gekko\n",
        "# Use IPOPT solver (default)\n",
        "m.options.SOLVER = 3\n",
        "# Change to parallel linear solver\n",
        "m.solver_options = ['linear_solver ma97']\n",
        "# Initialize variables\n",
        "x1 = m.Var(value=1,lb=1,ub=5)\n",
        "x2 = m.Var(value=5,lb=1,ub=5)\n",
        "x3 = m.Var(value=5,lb=1,ub=5)\n",
        "x4 = m.Var(value=1,lb=1,ub=5)\n",
        "# Equations\n",
        "m.Equation(x1*x2*x3*x4>=25)\n",
        "m.Equation(x1**2+x2**2+x3**2+x4**2==40)\n",
        "m.Obj(x1*x4*(x1+x2+x3)+x3) # Objective\n",
        "m.options.IMODE = 3 # Steady state optimization\n",
        "m.solve(disp=False) # Solve\n",
        "print('Results')\n",
        "print('x1: ' + str(x1.value))\n",
        "print('x2: ' + str(x2.value))\n",
        "print('x3: ' + str(x3.value))\n",
        "print('x4: ' + str(x4.value))\n",
        "print('Objective: ' + str(m.options.objfcnval))"
      ]
    },
    {
      "cell_type": "markdown",
      "metadata": {
        "id": "MGSdpxtmtRBr"
      },
      "source": [
        "## 10: Mixed Integer Nonlinear Programming"
      ]
    },
    {
      "cell_type": "code",
      "execution_count": 11,
      "metadata": {
        "id": "0omQ5kpPtRBr",
        "outputId": "f9077353-23e3-4e4e-817e-239c4e33a5f1",
        "colab": {
          "base_uri": "https://localhost:8080/"
        }
      },
      "outputs": [
        {
          "output_type": "stream",
          "name": "stdout",
          "text": [
            "Results\n",
            "x1: [1.3589086474]\n",
            "x2: [4.5992789966]\n",
            "x3: [4.0]\n",
            "x4: [1.0]\n",
            "Objective: 17.532267301\n"
          ]
        }
      ],
      "source": [
        "from gekko import GEKKO\n",
        "m = GEKKO() # Initialize gekko\n",
        "m.options.SOLVER=1  # APOPT is an MINLP solver\n",
        "\n",
        "# optional solver settings with APOPT\n",
        "m.solver_options = ['minlp_maximum_iterations 500', \\\n",
        "                    # minlp iterations with integer solution\n",
        "                    'minlp_max_iter_with_int_sol 10', \\\n",
        "                    # treat minlp as nlp\n",
        "                    'minlp_as_nlp 0', \\\n",
        "                    # nlp sub-problem max iterations\n",
        "                    'nlp_maximum_iterations 50', \\\n",
        "                    # 1 = depth first, 2 = breadth first\n",
        "                    'minlp_branch_method 1', \\\n",
        "                    # maximum deviation from whole number\n",
        "                    'minlp_integer_tol 0.05', \\\n",
        "                    # covergence tolerance\n",
        "                    'minlp_gap_tol 0.01']\n",
        "\n",
        "# Initialize variables\n",
        "x1 = m.Var(value=1,lb=1,ub=5)\n",
        "x2 = m.Var(value=5,lb=1,ub=5)\n",
        "# Integer constraints for x3 and x4\n",
        "x3 = m.Var(value=5,lb=1,ub=5,integer=True)\n",
        "x4 = m.Var(value=1,lb=1,ub=5,integer=True)\n",
        "# Equations\n",
        "m.Equation(x1*x2*x3*x4>=25)\n",
        "m.Equation(x1**2+x2**2+x3**2+x4**2==40)\n",
        "m.Obj(x1*x4*(x1+x2+x3)+x3) # Objective\n",
        "m.solve(disp=False) # Solve\n",
        "print('Results')\n",
        "print('x1: ' + str(x1.value))\n",
        "print('x2: ' + str(x2.value))\n",
        "print('x3: ' + str(x3.value))\n",
        "print('x4: ' + str(x4.value))\n",
        "print('Objective: ' + str(m.options.objfcnval))"
      ]
    },
    {
      "cell_type": "markdown",
      "metadata": {
        "id": "izXuTGbctRBr"
      },
      "source": [
        "## 11: Optimal Control with Integral Objective\n",
        "\n",
        "__Original Form__\n",
        "\n",
        "$\\min_u \\frac{1}{2} \\int_0^2 x_1^2(t) \\, dt$\n",
        "\n",
        "$\\mathrm{subject \\; to}$\n",
        "\n",
        "$\\frac{dx_1}{dt}=u$\n",
        "\n",
        "$x_1(0) = 1$\n",
        "\n",
        "$-1 \\le u(t) \\le 1$\n",
        "\n",
        "__Equivalent Form for GEKKO with new Variable $x_2$__\n",
        "\n",
        "$\\min_u x_2\\left(t_f\\right)$\n",
        "\n",
        "$\\mathrm{subject \\; to}$\n",
        "\n",
        "$\\frac{dx_1}{dt}=u$\n",
        "\n",
        "$\\frac{dx_2}{dt} = \\frac{1}{2} x_1^2(t)$\n",
        "\n",
        "$x_1(0) = 1$\n",
        "\n",
        "$x_2(0) = 0$\n",
        "\n",
        "$t_f = 2$\n",
        "\n",
        "$-1 \\le u(t) \\le 1$"
      ]
    },
    {
      "cell_type": "code",
      "execution_count": 12,
      "metadata": {
        "id": "7AWkD7OUtRBr",
        "outputId": "f0875810-2f34-4657-ccc1-8a0190afaf79",
        "colab": {
          "base_uri": "https://localhost:8080/",
          "height": 466
        }
      },
      "outputs": [
        {
          "output_type": "execute_result",
          "data": {
            "text/plain": [
              "Text(0, 0.5, 'Value')"
            ]
          },
          "metadata": {},
          "execution_count": 12
        },
        {
          "output_type": "display_data",
          "data": {
            "text/plain": [
              "<Figure size 640x480 with 1 Axes>"
            ],
            "image/png": "[encoded data removed]"
          },
          "metadata": {}
        }
      ],
      "source": [
        "from gekko import GEKKO\n",
        "import numpy as np\n",
        "import matplotlib.pyplot as plt\n",
        "%matplotlib inline\n",
        "\n",
        "m = GEKKO() # initialize gekko\n",
        "nt = 101\n",
        "m.time = np.linspace(0,2,nt)\n",
        "# Variables\n",
        "x1 = m.Var(value=1)\n",
        "x2 = m.Var(value=0)\n",
        "u = m.Var(value=0,lb=-1,ub=1)\n",
        "p = np.zeros(nt) # mark final time point\n",
        "p[-1] = 1.0\n",
        "final = m.Param(value=p)\n",
        "# Equations\n",
        "m.Equation(x1.dt()==u)\n",
        "m.Equation(x2.dt()==0.5*x1**2)\n",
        "m.Obj(x2*final) # Objective function\n",
        "m.options.IMODE = 6 # optimal control mode\n",
        "m.solve(disp=False) # solve\n",
        "plt.figure(1) # plot results\n",
        "plt.plot(m.time,x1.value,'k-',label=r'$x_1$')\n",
        "plt.plot(m.time,x2.value,'b-',label=r'$x_2$')\n",
        "plt.plot(m.time,u.value,'r--',label=r'$u$')\n",
        "plt.legend(loc='best')\n",
        "plt.xlabel('Time')\n",
        "plt.ylabel('Value')"
      ]
    },
    {
      "cell_type": "markdown",
      "metadata": {
        "id": "2WcPuIODtRBr"
      },
      "source": [
        "## 12: Optimal Control with Economic Objective\n",
        "\n",
        "__Original Form__\n",
        "\n",
        "$\\max_{u(t)} \\int_0^{10} \\left(E-\\frac{c}{x}\\right) u \\, U_{max} \\, dt$\n",
        "\n",
        "$\\mathrm{subject \\; to}$\n",
        "\n",
        "$\\frac{dx}{dt}=r \\, x(t) \\left(1-\\frac{x(t)}{k}\\right)-u \\, U_{max}$\n",
        "\n",
        "$x(0) = 70$\n",
        "\n",
        "$0 \\le u(t) \\le 1$\n",
        "\n",
        "$E=1, \\, c=17.5, \\, r=0.71$\n",
        "\n",
        "$k=80.5, \\, U_{max}=20$\n",
        "\n",
        "__Equivalent Form for GEKKO__\n",
        "\n",
        "$\\min_{u(t)} -J\\left(t_f\\right)$\n",
        "\n",
        "$\\mathrm{subject \\; to}$\n",
        "\n",
        "$\\frac{dx}{dt}=r \\, x(t) \\left(1-\\frac{x(t)}{k}\\right)-u \\, U_{max}$\n",
        "\n",
        "$\\frac{dJ}{dt} = \\left(E-\\frac{c}{x}\\right) u \\, U_{max}$\n",
        "\n",
        "$x(0) = 70$\n",
        "\n",
        "$J(0) = 0$\n",
        "\n",
        "$0 \\le u(t) \\le 1$\n",
        "\n",
        "$t_f = 10, \\, E=1, \\, c=17.5$\n",
        "\n",
        "$r=0.71, \\, k=80.5, \\, U_{max}=20$"
      ]
    },
    {
      "cell_type": "code",
      "execution_count": 13,
      "metadata": {
        "id": "TSLwSK3ltRBr",
        "outputId": "e3f9554a-d079-4407-f84b-35ca4d43fa38",
        "colab": {
          "base_uri": "https://localhost:8080/",
          "height": 484
        }
      },
      "outputs": [
        {
          "output_type": "stream",
          "name": "stdout",
          "text": [
            "Optimal Profit: 106.90608335\n"
          ]
        },
        {
          "output_type": "execute_result",
          "data": {
            "text/plain": [
              "<matplotlib.legend.Legend at 0x7add5a462dd0>"
            ]
          },
          "metadata": {},
          "execution_count": 13
        },
        {
          "output_type": "display_data",
          "data": {
            "text/plain": [
              "<Figure size 640x480 with 2 Axes>"
            ],
            "image/png": "[encoded data removed]"
          },
          "metadata": {}
        }
      ],
      "source": [
        "from gekko import GEKKO\n",
        "import numpy as np\n",
        "import matplotlib.pyplot as plt\n",
        "%matplotlib inline\n",
        "\n",
        "# create GEKKO model\n",
        "m = GEKKO()\n",
        "# time points\n",
        "n=501\n",
        "m.time = np.linspace(0,10,n)\n",
        "# constants\n",
        "E,c,r,k,U_max = 1,17.5,0.71,80.5,20\n",
        "# fishing rate\n",
        "u = m.MV(value=1,lb=0,ub=1)\n",
        "u.STATUS = 1\n",
        "u.DCOST = 0\n",
        "x = m.Var(value=70) # fish population\n",
        "# fish population balance\n",
        "m.Equation(x.dt() == r*x*(1-x/k)-u*U_max)\n",
        "J = m.Var(value=0) # objective (profit)\n",
        "Jf = m.FV() # final objective\n",
        "Jf.STATUS = 1\n",
        "m.Connection(Jf,J,pos2='end')\n",
        "m.Equation(J.dt() == (E-c/x)*u*U_max)\n",
        "m.Obj(-Jf) # maximize profit\n",
        "m.options.IMODE = 6  # optimal control\n",
        "m.options.NODES = 3  # collocation nodes\n",
        "m.options.SOLVER = 3 # solver (IPOPT)\n",
        "m.solve(disp=False) # Solve\n",
        "print('Optimal Profit: ' + str(Jf.value[0]))\n",
        "plt.figure(1) # plot results\n",
        "plt.subplot(2,1,1)\n",
        "plt.plot(m.time,J.value,'r--',label='profit')\n",
        "plt.plot(m.time,x.value,'b-',label='fish')\n",
        "plt.legend()\n",
        "plt.subplot(2,1,2)\n",
        "plt.plot(m.time,u.value,'k--',label='rate')\n",
        "plt.xlabel('Time (yr)')\n",
        "plt.legend()"
      ]
    },
    {
      "cell_type": "markdown",
      "metadata": {
        "id": "dtw8W3UVtRBr"
      },
      "source": [
        "## 13: Optimal Control: Minimize Final Time\n",
        "\n",
        "__Original Form__\n",
        "\n",
        "$\\min_{u(t)} \\; t_f$\n",
        "\n",
        "$\\mathrm{subject \\; to}$\n",
        "\n",
        "$\\frac{dx_1}{dt}=u$\n",
        "\n",
        "$\\frac{dx_2}{dt}=\\cos\\left(x_1(t)\\right)$\n",
        "\n",
        "$\\frac{dx_3}{dt}=\\sin\\left(x_1(t)\\right)$\n",
        "\n",
        "$x(0) = \\left[\\pi/2,4,0\\right]$\n",
        "\n",
        "$x_2\\left(t_f\\right)=0$\n",
        "\n",
        "$x_3\\left(t_f\\right)=0$\n",
        "\n",
        "$-2 \\le u(t) \\le 2$\n",
        "\n",
        "__Equivalent Form for GEKKO__\n",
        "\n",
        "$\\min_{u(t), t_f} \\; t_f$\n",
        "\n",
        "$\\mathrm{subject \\; to}$\n",
        "\n",
        "$\\frac{dx_1}{dt}=t_f \\, u$\n",
        "\n",
        "$\\frac{dx_2}{dt}=t_f \\, \\cos\\left(x_1(t)\\right)$\n",
        "\n",
        "$\\frac{dx_3}{dt}=t_f \\, \\sin\\left(x_1(t)\\right)$\n",
        "\n",
        "$x(0) = \\left[\\pi/2,4,0\\right]$\n",
        "\n",
        "$x_2\\left(t_f\\right)=0$\n",
        "\n",
        "$x_3\\left(t_f\\right)=0$\n",
        "\n",
        "$-2 \\le u(t) \\le 2$"
      ]
    },
    {
      "cell_type": "code",
      "execution_count": 14,
      "metadata": {
        "id": "9GsWpHVBtRBr",
        "outputId": "d7ee6652-8eda-4515-d2dd-da6c0124263d",
        "colab": {
          "base_uri": "https://localhost:8080/",
          "height": 484
        }
      },
      "outputs": [
        {
          "output_type": "stream",
          "name": "stdout",
          "text": [
            "Final Time: 4.3162556133\n"
          ]
        },
        {
          "output_type": "execute_result",
          "data": {
            "text/plain": [
              "Text(0.5, 0, 'Time')"
            ]
          },
          "metadata": {},
          "execution_count": 14
        },
        {
          "output_type": "display_data",
          "data": {
            "text/plain": [
              "<Figure size 640x480 with 1 Axes>"
            ],
            "image/png": "[encoded data removed]"
          },
          "metadata": {}
        }
      ],
      "source": [
        "from gekko import GEKKO\n",
        "import numpy as np\n",
        "import matplotlib.pyplot as plt\n",
        "%matplotlib inline\n",
        "\n",
        "m = GEKKO() # initialize GEKKO\n",
        "nt = 501\n",
        "m.time = np.linspace(0,1,nt)\n",
        "# Variables\n",
        "x1 = m.Var(value=np.pi/2.0)\n",
        "x2 = m.Var(value=4.0)\n",
        "x3 = m.Var(value=0.0)\n",
        "p = np.zeros(nt) # final time = 1\n",
        "p[-1] = 1.0\n",
        "final = m.Param(value=p)\n",
        "# optimize final time\n",
        "tf = m.FV(value=1.0,lb=0.1,ub=100.0)\n",
        "tf.STATUS = 1\n",
        "# control changes every time period\n",
        "u = m.MV(value=0,lb=-2,ub=2)\n",
        "u.STATUS = 1\n",
        "m.Equation(x1.dt()==u*tf)\n",
        "m.Equation(x2.dt()==m.cos(x1)*tf)\n",
        "m.Equation(x3.dt()==m.sin(x1)*tf)\n",
        "m.Equation(x2*final<=0)\n",
        "m.Equation(x3*final<=0)\n",
        "m.Obj(tf)\n",
        "m.options.IMODE = 6\n",
        "m.solve(disp=False)\n",
        "print('Final Time: ' + str(tf.value[0]))\n",
        "tm = np.linspace(0,tf.value[0],nt)\n",
        "plt.figure(1)\n",
        "plt.plot(tm,x1.value,'k-',label=r'$x_1$')\n",
        "plt.plot(tm,x2.value,'b-',label=r'$x_2$')\n",
        "plt.plot(tm,x3.value,'g--',label=r'$x_3$')\n",
        "plt.plot(tm,u.value,'r--',label=r'$u$')\n",
        "plt.legend(loc='best')\n",
        "plt.xlabel('Time')"
      ]
    },
    {
      "cell_type": "markdown",
      "metadata": {
        "id": "4rztG-hqtRBr"
      },
      "source": [
        "## 14: PID Control Tuning\n",
        "\n",
        "A [PID Controller](https://en.wikipedia.org/wiki/PID_controller) has proportional, integral, and derivative terms to determine the controller output ($OP$) based on the set point ($SP$) and process variable ($PV$). A standard PID form has constants $K_c$, $\\tau_I$, and $\\tau_D$.\n",
        "\n",
        "\n",
        "$err = SP-PV$\n",
        "\n",
        "$OP = OP_0 + K_c \\, err + \\frac{K_c}{\\tau_I} \\int err \\, dt - K_c \\, \\tau_D \\frac{d\\,PV}{dt}$\n",
        "\n",
        "The effect of the tuning constants is shown with the [PID Tuning Notebook](http://nbviewer.jupyter.org/url/apmonitor.com/pdc/uploads/Main/pid_widget.ipynb). This example is an alternative implementation in GEKKO."
      ]
    },
    {
      "cell_type": "code",
      "execution_count": null,
      "metadata": {
        "id": "ID-E2V2LtRBr"
      },
      "outputs": [],
      "source": [
        "from gekko import GEKKO\n",
        "import numpy as np\n",
        "import matplotlib.pyplot as plt\n",
        "%matplotlib inline\n",
        "\n",
        "m = GEKKO()\n",
        "tf = 40\n",
        "m.time = np.linspace(0,tf,2*tf+1)\n",
        "step = np.zeros(2*tf+1)\n",
        "step[3:40] = 2.0\n",
        "step[40:]  = 5.0\n",
        "\n",
        "# Controller model\n",
        "Kc = 15.0                    # controller gain\n",
        "tauI = 2.0                  # controller reset time\n",
        "tauD = 1.0                  # derivative constant\n",
        "OP_0 = m.Const(value=0.0)   # OP bias\n",
        "OP = m.Var(value=0.0)       # controller output\n",
        "PV = m.Var(value=0.0)       # process variable\n",
        "SP = m.Param(value=step)    # set point\n",
        "Intgl = m.Var(value=0.0)    # integral of the error\n",
        "err = m.Intermediate(SP-PV) # set point error\n",
        "m.Equation(Intgl.dt()==err) # integral of the error\n",
        "m.Equation(OP == OP_0 + Kc*err + (Kc/tauI)*Intgl - PV.dt())\n",
        "\n",
        "# Process model\n",
        "Kp = 0.5                    # process gain\n",
        "tauP = 10.0                 # process time constant\n",
        "m.Equation(tauP*PV.dt() + PV == Kp*OP)\n",
        "\n",
        "m.options.IMODE=4\n",
        "m.solve(disp=False)\n",
        "\n",
        "plt.figure()\n",
        "plt.subplot(2,1,1)\n",
        "plt.plot(m.time,OP.value,'b:',label='OP')\n",
        "plt.ylabel('Output')\n",
        "plt.legend()\n",
        "plt.subplot(2,1,2)\n",
        "plt.plot(m.time,SP.value,'k-',label='SP')\n",
        "plt.plot(m.time,PV.value,'r--',label='PV')\n",
        "plt.xlabel('Time (sec)')\n",
        "plt.ylabel('Process')\n",
        "plt.legend()"
      ]
    },
    {
      "cell_type": "markdown",
      "metadata": {
        "id": "qjGYMo-0tRBr"
      },
      "source": [
        "## 15: Process Simulator"
      ]
    },
    {
      "cell_type": "code",
      "execution_count": null,
      "metadata": {
        "id": "cWmlxNB4tRBr"
      },
      "outputs": [],
      "source": [
        "from gekko import GEKKO\n",
        "import numpy as np\n",
        "import matplotlib.pyplot as plt\n",
        "%matplotlib inline\n",
        "\n",
        "# Generate \"data\" with process simulation\n",
        "nt = 51\n",
        "# input steps\n",
        "u_meas = np.zeros(nt)\n",
        "u_meas[3:10] = 1.0\n",
        "u_meas[10:20] = 2.0\n",
        "u_meas[20:40] = 0.5\n",
        "u_meas[40:] = 3.0\n",
        "# simulation model\n",
        "p = GEKKO()\n",
        "p.time = np.linspace(0,10,nt)\n",
        "n = 1 #process model order\n",
        "# Parameters\n",
        "steps = np.zeros(n)\n",
        "p.u = p.MV(value=u_meas)\n",
        "p.u.FSTATUS=1\n",
        "p.K = p.Param(value=1) #gain\n",
        "p.tau = p.Param(value=5) #time constant\n",
        "# Intermediate\n",
        "p.x = [p.Intermediate(p.u)]\n",
        "# Variables\n",
        "p.x.extend([p.Var() for _ in range(n)])  #state variables\n",
        "p.y = p.SV() #measurement\n",
        "# Equations\n",
        "p.Equations([p.tau/n * p.x[i+1].dt() == -p.x[i+1] + p.x[i] for i in range(n)])\n",
        "p.Equation(p.y == p.K * p.x[n])\n",
        "# Simulate\n",
        "p.options.IMODE = 4\n",
        "p.solve(disp=False)\n",
        "# add measurement noise\n",
        "y_meas = (np.random.rand(nt)-0.5)*0.2\n",
        "for i in range(nt):\n",
        "    y_meas[i] += p.y.value[i]\n",
        "plt.plot(p.time,u_meas,'b:',label='Input (u) meas')\n",
        "plt.plot(p.time,y_meas,'ro',label='Output (y) meas')\n",
        "plt.plot(p.time,p.y.value,'k-',label='Output (y) actual')\n",
        "plt.legend()"
      ]
    },
    {
      "cell_type": "markdown",
      "metadata": {
        "id": "0X0dyk-ItRBs"
      },
      "source": [
        "## 16: Moving Horizon Estimation\n",
        "\n",
        "Run the Process Simulation cell above to generate the data. The MHE application uses a first order model while the process simulation is a second order system. This is done to emulate a realistic case with model mismatch and measurement noise.\n",
        "\n",
        "This demonstrates just one cycle of an MHE application. Typical MHE applications receive an additional measurements, re-optimize parameters and states, and re-inject the parameters into a controller."
      ]
    },
    {
      "cell_type": "code",
      "execution_count": null,
      "metadata": {
        "id": "mw25icr_tRBs"
      },
      "outputs": [],
      "source": [
        "from gekko import GEKKO\n",
        "import numpy as np\n",
        "import matplotlib.pyplot as plt\n",
        "%matplotlib inline\n",
        "\n",
        "# Estimator Model\n",
        "m = GEKKO()\n",
        "m.time = p.time\n",
        "# Parameters\n",
        "m.u = m.MV(value=u_meas) #input\n",
        "m.K = m.FV(value=1, lb=1, ub=3)    # gain\n",
        "m.tau = m.FV(value=5, lb=1, ub=10) # time constant\n",
        "# Variables\n",
        "m.x = m.SV() #state variable\n",
        "m.y = m.CV(value=y_meas) #measurement\n",
        "# Equations\n",
        "m.Equations([m.tau * m.x.dt() == -m.x + m.u,\n",
        "             m.y == m.K * m.x])\n",
        "# Options\n",
        "m.options.IMODE = 5 #MHE\n",
        "m.options.EV_TYPE = 1\n",
        "# STATUS = 0, optimizer doesn't adjust value\n",
        "# STATUS = 1, optimizer can adjust\n",
        "m.u.STATUS = 0\n",
        "m.K.STATUS = 1\n",
        "m.tau.STATUS = 1\n",
        "m.y.STATUS = 1\n",
        "# FSTATUS = 0, no measurement\n",
        "# FSTATUS = 1, measurement used to update model\n",
        "m.u.FSTATUS = 1\n",
        "m.K.FSTATUS = 0\n",
        "m.tau.FSTATUS = 0\n",
        "m.y.FSTATUS = 1\n",
        "# DMAX = maximum movement each cycle\n",
        "m.K.DMAX = 2.0\n",
        "m.tau.DMAX = 4.0\n",
        "# MEAS_GAP = dead-band for measurement / model mismatch\n",
        "m.y.MEAS_GAP = 0.25\n",
        "\n",
        "# solve\n",
        "m.solve(disp=False)\n",
        "\n",
        "# Plot results\n",
        "plt.subplot(2,1,1)\n",
        "plt.plot(m.time,u_meas,'b:',label='Input (u) meas')\n",
        "plt.legend()\n",
        "plt.subplot(2,1,2)\n",
        "plt.plot(m.time,y_meas,'gx',label='Output (y) meas')\n",
        "plt.plot(p.time,p.y.value,'k-',label='Output (y) actual')\n",
        "plt.plot(m.time,m.y.value,'r--',label='Output (y) estimated')\n",
        "plt.legend()"
      ]
    },
    {
      "cell_type": "markdown",
      "metadata": {
        "id": "l5iYUA2ptRBs"
      },
      "source": [
        "## 17: Model Predictive Control"
      ]
    },
    {
      "cell_type": "code",
      "execution_count": null,
      "metadata": {
        "id": "IvABOBWXtRBs"
      },
      "outputs": [],
      "source": [
        "from gekko import GEKKO\n",
        "import numpy as np\n",
        "from random import random\n",
        "import matplotlib.pyplot as plt\n",
        "%matplotlib inline\n",
        "\n",
        "m = GEKKO()\n",
        "m.time = np.linspace(0,20,41)\n",
        "\n",
        "# Parameters\n",
        "mass = 500\n",
        "b = m.Param(value=50)\n",
        "K = m.Param(value=0.8)\n",
        "\n",
        "# Manipulated variable\n",
        "p = m.MV(value=0, lb=0, ub=100)\n",
        "p.STATUS = 1  # allow optimizer to change\n",
        "p.DCOST = 0.1 # smooth out gas pedal movement\n",
        "p.DMAX = 20   # slow down change of gas pedal\n",
        "\n",
        "# Controlled Variable\n",
        "v = m.CV(value=0)\n",
        "v.STATUS = 1  # add the SP to the objective\n",
        "m.options.CV_TYPE = 2 # squared error\n",
        "v.SP = 40     # set point\n",
        "v.TR_INIT = 1 # set point trajectory\n",
        "v.TAU = 5     # time constant of trajectory\n",
        "\n",
        "# Process model\n",
        "m.Equation(mass*v.dt() == -v*b + K*b*p)\n",
        "\n",
        "m.options.IMODE = 6 # control\n",
        "m.solve(disp=False)\n",
        "\n",
        "# get additional solution information\n",
        "import json\n",
        "with open(m.path+'//results.json') as f:\n",
        "    results = json.load(f)\n",
        "\n",
        "plt.figure()\n",
        "plt.subplot(2,1,1)\n",
        "plt.plot(m.time,p.value,'b-',label='MV Optimized')\n",
        "plt.legend()\n",
        "plt.ylabel('Input')\n",
        "plt.subplot(2,1,2)\n",
        "plt.plot(m.time,results['v1.tr'],'k-',label='Reference Trajectory')\n",
        "plt.plot(m.time,v.value,'r--',label='CV Response')\n",
        "plt.ylabel('Output')\n",
        "plt.xlabel('Time')\n",
        "plt.legend(loc='best')"
      ]
    },
    {
      "cell_type": "markdown",
      "metadata": {
        "id": "HLSyStXctRBs"
      },
      "source": [
        "## 18: Debugging Resources\n",
        "\n",
        "Applications may need a more detailed inspection to find errors in programming syntax, errors in modeling assumptions, or to generate good initial guess values. The GEKKO or the solver solution reports syntax errors. Setting m.solve(disp=True) displays the solver output with a message on the line of code that is unsuccessful. Naming the variables such as name='state' is helpful to display the equations in a readable form.\n",
        "\n",
        "Other strategies for obtaining a successful solution include:\n",
        "\n",
        "* Increase the number of iterations with MAX_ITER (0-1000+)\n",
        "* Increase the diagnostic level with DIAGLEVEL (0-10)\n",
        "* Change the solver with SOLVER (1-5)\n",
        "* Calculate model SENSITIVITY (1)\n",
        "* Solve a square problem with # Variables = # Equations\n",
        "* Set COLDSTART to initialize problem (0-2)\n",
        "\n",
        "Additional [modeling](http://apmonitor.com/do/index.php/Main/ModelFormulation), [initialization](http://apmonitor.com/do/index.php/Main/ModelInitialization), and [decomposition](https://www.sciencedirect.com/science/article/pii/S0098135415001179) tips may be helpful. There is also an online [discussion group](http://apmonitor.com/wiki/index.php/Main/UsersGroup), [video playlist](https://www.youtube.com/playlist?list=PLLBUgWXdTBDjcqDl2e5F_hcBjEc6vjr1X), [GEKKO documentation](http://gekko.readthedocs.io/en/latest/), and [APMonitor documentation](http://apmonitor.com/wiki/index.php/Main/HomePage) as additional resources."
      ]
    },
    {
      "cell_type": "code",
      "execution_count": null,
      "metadata": {
        "id": "7rMPVtm6tRBs"
      },
      "outputs": [],
      "source": [
        "from gekko import GEKKO\n",
        "\n",
        "m = GEKKO()                 # create GEKKO model\n",
        "\n",
        "print('--------- Follow local path to view files --------------')\n",
        "print(m.path)               # show source file path\n",
        "print('--------------------------------------------------------')\n",
        "\n",
        "# test application\n",
        "u = m.FV(value=5,name='u')  # define fixed value\n",
        "x = m.SV(name='state')      # define state variable\n",
        "m.Equation(x==u)            # define equation\n",
        "m.options.COLDSTART = 1     # coldstart option\n",
        "m.options.DIAGLEVEL = 0     # diagnostic level (0-10)\n",
        "m.options.MAX_ITER = 500    # adjust maximum iterations\n",
        "m.options.SENSITIVITY = 1   # sensitivity analysis\n",
        "m.options.SOLVER = 1        # change solver (1=APOPT,3=IPOPT)\n",
        "m.solve(disp=True)          # solve locally (remote=False)\n",
        "print('x: ' + str(x.value)) # print variable value"
      ]
    }
  ],
  "metadata": {
    "kernelspec": {
      "display_name": "Python 3",
      "language": "python",
      "name": "python3"
    },
    "language_info": {
      "codemirror_mode": {
        "name": "ipython",
        "version": 3
      },
      "file_extension": ".py",
      "mimetype": "text/x-python",
      "name": "python",
      "nbconvert_exporter": "python",
      "pygments_lexer": "ipython3",
      "version": "3.8.5"
    },
    "colab": {
      "provenance": [],
      "include_colab_link": true
    }
  },
  "nbformat": 4,
  "nbformat_minor": 0
}